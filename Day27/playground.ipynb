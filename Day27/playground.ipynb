{
 "cells": [
  {
   "cell_type": "code",
   "execution_count": 1,
   "id": "3d8685ae-5fca-4695-9586-31a0bcef8bd1",
   "metadata": {},
   "outputs": [
    {
     "name": "stdout",
     "output_type": "stream",
     "text": [
      "1\n",
      "2\n",
      "3\n",
      "4\n",
      "5\n"
     ]
    }
   ],
   "source": [
    "def add(*args):\n",
    "    for n in args:\n",
    "        print(n)\n",
    "\n",
    "add(1,2,3,4,5)"
   ]
  },
  {
   "cell_type": "code",
   "execution_count": null,
   "id": "cb3bcf13-e027-4a67-8a22-d4b34e4a238e",
   "metadata": {},
   "outputs": [],
   "source": []
  },
  {
   "cell_type": "code",
   "execution_count": 1,
   "id": "ef6b5f79-8fe1-4f12-803e-f7125780f48d",
   "metadata": {},
   "outputs": [],
   "source": [
    "from tkinter import *\n",
    "\n",
    "window = Tk()\n",
    "window.title(\"Hello Hello\")\n",
    "window.minsize(width=500, height=300)\n",
    "\n",
    "# Function to handle button click\n",
    "def button_clicked():\n",
    "    input_text = input.get()  # Get the text from the input field\n",
    "    my_label.config(text=f\"Entered: {input_text}\")  # Update the label with the input text\n",
    "\n",
    "# Label to display text\n",
    "my_label = Label(window, text=\"I am a Label\", font=(\"Arial\", 24, \"bold\"))\n",
    "my_label.pack()\n",
    "\n",
    "# Button to trigger the function\n",
    "button = Button(window, text=\"Click Me\", command=button_clicked)\n",
    "button.pack()\n",
    "\n",
    "# Entry widget for input\n",
    "input = Entry(window, width=10)\n",
    "input.pack()\n",
    "\n",
    "window.mainloop()\n"
   ]
  },
  {
   "cell_type": "code",
   "execution_count": 2,
   "id": "fd7fe706-9439-46f8-9461-86f8d7984e25",
   "metadata": {},
   "outputs": [],
   "source": []
  },
  {
   "cell_type": "code",
   "execution_count": null,
   "id": "cd811a61-42ec-47f8-bdec-efd36470c67b",
   "metadata": {},
   "outputs": [],
   "source": []
  }
 ],
 "metadata": {
  "kernelspec": {
   "display_name": "Python 3 (ipykernel)",
   "language": "python",
   "name": "python3"
  },
  "language_info": {
   "codemirror_mode": {
    "name": "ipython",
    "version": 3
   },
   "file_extension": ".py",
   "mimetype": "text/x-python",
   "name": "python",
   "nbconvert_exporter": "python",
   "pygments_lexer": "ipython3",
   "version": "3.12.4"
  }
 },
 "nbformat": 4,
 "nbformat_minor": 5
}
