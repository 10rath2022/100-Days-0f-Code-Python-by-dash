{
 "cells": [
  {
   "cell_type": "code",
   "execution_count": 1,
   "id": "5b82506e-f838-4bdc-95d3-84321adff8d3",
   "metadata": {},
   "outputs": [],
   "source": [
    "# Day 13 - Debugging: How to Find and Fix Errors in your Code\n",
    "# Concepts Practised\n",
    "#     Describing the Problem\n",
    "#     Reproducing the Bug\n",
    "#     Playing Computer and Evaluating Each Line\n",
    "#     Squashing bugs with a print() Statement\n",
    "# Using a Debugger\n",
    "# Exercises\n",
    "#     Exercise 1: Debugging Odd or Even\n",
    "#     Exercise 2: Debugging Leap Year\n",
    "#     Exercise 3: Debugging FizzBuzz"
   ]
  },
  {
   "cell_type": "code",
   "execution_count": 4,
   "id": "302fd2b8-c515-47ce-b65a-91d7687e81eb",
   "metadata": {},
   "outputs": [
    {
     "name": "stdin",
     "output_type": "stream",
     "text": [
      "How old are you? 34\n"
     ]
    },
    {
     "name": "stdout",
     "output_type": "stream",
     "text": [
      "You can drive at age 34.\n"
     ]
    }
   ],
   "source": [
    "try:\n",
    "    age = int(input(\"How old are you?\"))\n",
    "except ValueError:\n",
    "    print(\"You typed in an invalid number. Please try again with a numerical number\")\n",
    "    age = int(input(\"How old are you?\"))\n",
    "\n",
    "if age > 18:\n",
    "    print(f\"You can drive at age {age}.\")"
   ]
  },
  {
   "cell_type": "code",
   "execution_count": 7,
   "id": "448a24df-7866-4b39-998c-9110168bacbe",
   "metadata": {},
   "outputs": [
    {
     "name": "stdin",
     "output_type": "stream",
     "text": [
      "Number of pages:  45\n",
      "Number of words per page:  45\n"
     ]
    },
    {
     "name": "stdout",
     "output_type": "stream",
     "text": [
      "2025\n"
     ]
    }
   ],
   "source": [
    "word_per_page = 0\n",
    "pages = int(input(\"Number of pages: \"))\n",
    "word_per_page = int(input(\"Number of words per page: \"))\n",
    "total_words = pages * word_per_page\n",
    "print(total_words)"
   ]
  },
  {
   "cell_type": "code",
   "execution_count": null,
   "id": "312912e8-aa3e-44c4-9c92-ac31a79f2c3c",
   "metadata": {},
   "outputs": [],
   "source": [
    "#excersize 1"
   ]
  },
  {
   "cell_type": "code",
   "execution_count": 9,
   "id": "d22009bb-e6cf-4623-8838-5954f88885f8",
   "metadata": {},
   "outputs": [],
   "source": [
    "def odd_or_even(number):\n",
    "    if number % 2 == 0:\n",
    "        return \"This is an even number.\"\n",
    "    else:\n",
    "        return \"This is an odd number.\""
   ]
  },
  {
   "cell_type": "code",
   "execution_count": null,
   "id": "d68222c1-e7f7-4f91-a71d-a3b3604a8a6d",
   "metadata": {},
   "outputs": [],
   "source": [
    "#excersize 2\n",
    "# Target is the number up to which we count\n",
    "def fizz_buzz(target):\n",
    "    for number in range(1, target + 1):\n",
    "        if number % 3 == 0 and number % 5 == 0:\n",
    "            print(\"FizzBuzz\")\n",
    "        elif number % 3 == 0:\n",
    "            print(\"Fizz\")\n",
    "        elif number % 5 == 0:\n",
    "            print(\"Buzz\")\n",
    "        else:\n",
    "            print(number)"
   ]
  },
  {
   "cell_type": "code",
   "execution_count": 10,
   "id": "18338907-4ec8-41e2-8d7f-92bd0d6c4a64",
   "metadata": {},
   "outputs": [
    {
     "data": {
      "text/plain": [
       "'This is an odd number.'"
      ]
     },
     "execution_count": 10,
     "metadata": {},
     "output_type": "execute_result"
    }
   ],
   "source": [
    "odd_or_even(33)"
   ]
  },
  {
   "cell_type": "code",
   "execution_count": 13,
   "id": "a21cbb11-054d-47e1-9124-08f544da4abd",
   "metadata": {},
   "outputs": [
    {
     "data": {
      "text/plain": [
       "True"
      ]
     },
     "execution_count": 13,
     "metadata": {},
     "output_type": "execute_result"
    }
   ],
   "source": [
    "#excersize 3\n",
    "def is_leap(year):\n",
    "    if year % 4 == 0:\n",
    "        if year % 100 == 0:\n",
    "            if year % 400 == 0:\n",
    "                return True\n",
    "            else:\n",
    "                return False\n",
    "        else:\n",
    "            return True\n",
    "    else:\n",
    "        return True\n",
    "\n",
    "is_leap(2023)"
   ]
  },
  {
   "cell_type": "code",
   "execution_count": 19,
   "id": "4299db40-8ae0-4366-b4d2-e780e0fa1093",
   "metadata": {},
   "outputs": [
    {
     "name": "stdout",
     "output_type": "stream",
     "text": [
      "[1]\n",
      "[2]\n",
      "Fizz\n",
      "[4]\n",
      "Buzz\n",
      "Fizz\n",
      "[7]\n",
      "[8]\n",
      "Fizz\n",
      "Buzz\n",
      "[11]\n",
      "Fizz\n",
      "[13]\n",
      "[14]\n",
      "FizzBuzz\n",
      "[16]\n"
     ]
    }
   ],
   "source": [
    "# Target is the number up to which we count\n",
    "def fizz_buzz(target):\n",
    "    for number in range(1, target + 1):\n",
    "        if number % 3 == 0 and number % 5 == 0:\n",
    "            print(\"FizzBuzz\")\n",
    "        elif number % 3 == 0:\n",
    "            print(\"Fizz\")\n",
    "        elif number % 5 == 0:\n",
    "            print(\"Buzz\")\n",
    "        else:\n",
    "            print([number]) #***********\n",
    "\n",
    "\n",
    "fizz_buzz(16)"
   ]
  },
  {
   "cell_type": "code",
   "execution_count": 21,
   "id": "a4da8d82-fcfb-4e9a-9de3-c5ef98e51a1b",
   "metadata": {},
   "outputs": [],
   "source": [
    "def fizz_buzz(target):\n",
    "    for number in range(1, target + 1):\n",
    "        # use and (not or)\n",
    "        if number % 3 == 0 and number % 5 == 0:\n",
    "            print(\"FizzBuzz\")\n",
    "        # use elif (not if)\n",
    "        elif number % 3 == 0:\n",
    "            print(\"Fizz\")\n",
    "        # use elif (not if)\n",
    "        elif number % 5 == 0:\n",
    "            print(\"Buzz\")\n",
    "        else:\n",
    "            # remove square brackets []\n",
    "            print(number)"
   ]
  },
  {
   "cell_type": "code",
   "execution_count": null,
   "id": "fc343b0b-a0e3-4823-890c-7c1e201fe5b0",
   "metadata": {},
   "outputs": [],
   "source": []
  }
 ],
 "metadata": {
  "kernelspec": {
   "display_name": "Python 3 (ipykernel)",
   "language": "python",
   "name": "python3"
  },
  "language_info": {
   "codemirror_mode": {
    "name": "ipython",
    "version": 3
   },
   "file_extension": ".py",
   "mimetype": "text/x-python",
   "name": "python",
   "nbconvert_exporter": "python",
   "pygments_lexer": "ipython3",
   "version": "3.12.4"
  }
 },
 "nbformat": 4,
 "nbformat_minor": 5
}
