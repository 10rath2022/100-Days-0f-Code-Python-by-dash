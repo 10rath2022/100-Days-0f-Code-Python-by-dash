{
 "cells": [
  {
   "cell_type": "code",
   "execution_count": 2,
   "id": "958dd7c9-9d92-48d0-a68a-524f28f33d37",
   "metadata": {},
   "outputs": [],
   "source": [
    "# Day 26 - List Comprehension and the Nato Alphabet\n",
    "# Concepts Practised\n",
    "# How to Create Lists using List Comprehension\n",
    "# How to use Dictionary Comprehension\n",
    "# How to Iterate over a Pandas DataFrame\n",
    "# Nato Alphabet Project"
   ]
  },
  {
   "cell_type": "code",
   "execution_count": 5,
   "id": "69620762-78ee-495e-932e-a4587eef827e",
   "metadata": {},
   "outputs": [
    {
     "name": "stdout",
     "output_type": "stream",
     "text": [
      "old list[1, 2, 3],\n",
      "new list[2, 3, 4]\n"
     ]
    }
   ],
   "source": [
    "numbers = [1,2,3]\n",
    "\n",
    "new_list = [n+1 for n in numbers]\n",
    "\n",
    "print(f\"old list{numbers},\\nnew list{new_list}\")"
   ]
  },
  {
   "cell_type": "code",
   "execution_count": 7,
   "id": "31492849-e6b1-42c4-bf2c-730dff64b4da",
   "metadata": {},
   "outputs": [
    {
     "name": "stdout",
     "output_type": "stream",
     "text": [
      "['D', 'a', 's', 'h', 'r', 'a', 't', 'h']\n"
     ]
    }
   ],
   "source": [
    "name = \"Dashrath\"\n",
    "\n",
    "letters_list = [letter for letter in name]\n",
    "print(letters_list)"
   ]
  },
  {
   "cell_type": "code",
   "execution_count": 9,
   "id": "1bb04f60-a6b3-4502-a6bc-7f7ab216cff4",
   "metadata": {},
   "outputs": [
    {
     "name": "stdout",
     "output_type": "stream",
     "text": [
      "[2, 4, 6, 8]\n"
     ]
    }
   ],
   "source": [
    "range_list = [ num * 2 for num in range(1,5)]\n",
    "print(range_list)"
   ]
  },
  {
   "cell_type": "code",
   "execution_count": 31,
   "id": "b88b8a81-f6df-40f0-a3ab-cc76696b6489",
   "metadata": {},
   "outputs": [],
   "source": [
    "names = [\"dash\", \"dashrath\", \"raj\", \"bhagvan\", \"Sangle\"]"
   ]
  },
  {
   "cell_type": "code",
   "execution_count": 32,
   "id": "98fb7271-aea2-492e-a60e-343a8b325578",
   "metadata": {},
   "outputs": [],
   "source": [
    "short_names = [name for name in names if len(name) < 5]"
   ]
  },
  {
   "cell_type": "code",
   "execution_count": 33,
   "id": "e1c1ac1a-abb3-4eef-a8d7-7c4ed556f7af",
   "metadata": {},
   "outputs": [
    {
     "name": "stdout",
     "output_type": "stream",
     "text": [
      "['dash', 'raj']\n"
     ]
    }
   ],
   "source": [
    "print(new_names)"
   ]
  },
  {
   "cell_type": "code",
   "execution_count": 36,
   "id": "5eac2461-5fc5-4ec9-ae02-224026636408",
   "metadata": {},
   "outputs": [],
   "source": [
    "long_names = [name.upper() for name in names if len(name)  > 5]"
   ]
  },
  {
   "cell_type": "code",
   "execution_count": 37,
   "id": "da461e9c-f6c0-4621-b505-1d940a4e4d9c",
   "metadata": {},
   "outputs": [
    {
     "name": "stdout",
     "output_type": "stream",
     "text": [
      "['DASHRATH', 'BHAGVAN', 'SANGLE']\n"
     ]
    }
   ],
   "source": [
    "print(long_names)"
   ]
  },
  {
   "cell_type": "code",
   "execution_count": 38,
   "id": "9a3c318c-c1cb-41ff-adfe-e686e0c1a24b",
   "metadata": {},
   "outputs": [
    {
     "name": "stdout",
     "output_type": "stream",
     "text": [
      "{'Monday': 53.6, 'Tuesday': 57.2, 'Wednesday': 59.0, 'Thursday': 57.2, 'Friday': 69.8, 'Saturday': 71.6, 'Sunday': 75.2}\n"
     ]
    }
   ],
   "source": [
    "weather_c = {\"Monday\": 12, \"Tuesday\": 14, \"Wednesday\": 15, \"Thursday\": 14, \"Friday\": 21, \"Saturday\": 22, \"Sunday\": 24}\n",
    " \n",
    "weather_f = {day:temp * 9/5 + 32 for (day, temp) in weather_c.items()}\n",
    " \n",
    "print(weather_f)\n"
   ]
  }
 ],
 "metadata": {
  "kernelspec": {
   "display_name": "Python 3 (ipykernel)",
   "language": "python",
   "name": "python3"
  },
  "language_info": {
   "codemirror_mode": {
    "name": "ipython",
    "version": 3
   },
   "file_extension": ".py",
   "mimetype": "text/x-python",
   "name": "python",
   "nbconvert_exporter": "python",
   "pygments_lexer": "ipython3",
   "version": "3.12.4"
  }
 },
 "nbformat": 4,
 "nbformat_minor": 5
}
