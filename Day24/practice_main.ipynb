{
 "cells": [
  {
   "cell_type": "code",
   "execution_count": 3,
   "id": "a68b04ca-d9d7-4a36-9f50-470694d484e5",
   "metadata": {},
   "outputs": [],
   "source": [
    "# class Dog:\n",
    "#     def __init__(self):\n",
    "#         self.temperament = \"loyal\"\n",
    "\n",
    "\n",
    "#     def bark(self):\n",
    "#         print(\"woof, woof!!\")\n",
    "\n",
    "# class Labrador(Dog):\n",
    "#     def __init__(self):\n",
    "#         super().__init__()\n",
    "#         self.is_a_good_boy = True\n",
    "\n",
    "#     def bark(self):\n",
    "#         super().bark()\n",
    "#         print(\"Greetings, good sir. How do you do?\")"
   ]
  },
  {
   "cell_type": "code",
   "execution_count": 1,
   "id": "bd08aaca-760b-410d-920c-f72b262a6abc",
   "metadata": {},
   "outputs": [
    {
     "ename": "AttributeError",
     "evalue": "'Snake' object has no attribute 'segment'",
     "output_type": "error",
     "traceback": [
      "\u001b[0;31m---------------------------------------------------------------------------\u001b[0m",
      "\u001b[0;31mAttributeError\u001b[0m                            Traceback (most recent call last)",
      "Cell \u001b[0;32mIn[1], line 38\u001b[0m\n\u001b[1;32m     36\u001b[0m \u001b[38;5;28;01mif\u001b[39;00m snake\u001b[38;5;241m.\u001b[39mhead\u001b[38;5;241m.\u001b[39mxcor() \u001b[38;5;241m>\u001b[39m \u001b[38;5;241m280\u001b[39m \u001b[38;5;129;01mor\u001b[39;00m snake\u001b[38;5;241m.\u001b[39mhead\u001b[38;5;241m.\u001b[39mxcor() \u001b[38;5;241m<\u001b[39m \u001b[38;5;241m-\u001b[39m\u001b[38;5;241m280\u001b[39m \u001b[38;5;129;01mor\u001b[39;00m snake\u001b[38;5;241m.\u001b[39mhead\u001b[38;5;241m.\u001b[39mycor() \u001b[38;5;241m>\u001b[39m \u001b[38;5;241m280\u001b[39m \u001b[38;5;129;01mor\u001b[39;00m snake\u001b[38;5;241m.\u001b[39mhead\u001b[38;5;241m.\u001b[39mycor() \u001b[38;5;241m<\u001b[39m \u001b[38;5;241m-\u001b[39m\u001b[38;5;241m280\u001b[39m:\n\u001b[1;32m     37\u001b[0m     scoreboard\u001b[38;5;241m.\u001b[39mreset()\n\u001b[0;32m---> 38\u001b[0m     \u001b[43msnake\u001b[49m\u001b[38;5;241;43m.\u001b[39;49m\u001b[43mreset\u001b[49m\u001b[43m(\u001b[49m\u001b[43m)\u001b[49m\n\u001b[1;32m     40\u001b[0m \u001b[38;5;28;01mfor\u001b[39;00m segment \u001b[38;5;129;01min\u001b[39;00m snake\u001b[38;5;241m.\u001b[39msegments[\u001b[38;5;241m1\u001b[39m:]:\n\u001b[1;32m     41\u001b[0m     \u001b[38;5;28;01mif\u001b[39;00m snake\u001b[38;5;241m.\u001b[39mhead\u001b[38;5;241m.\u001b[39mdistance(segment) \u001b[38;5;241m<\u001b[39m \u001b[38;5;241m10\u001b[39m:\n",
      "File \u001b[0;32m~/Desktop/venv/100 Days of Code/Day 21/snake.py:31\u001b[0m, in \u001b[0;36mSnake.reset\u001b[0;34m(self)\u001b[0m\n\u001b[1;32m     29\u001b[0m \u001b[38;5;28;01mfor\u001b[39;00m seg \u001b[38;5;129;01min\u001b[39;00m \u001b[38;5;28mself\u001b[39m\u001b[38;5;241m.\u001b[39msegments:\n\u001b[1;32m     30\u001b[0m     seg\u001b[38;5;241m.\u001b[39mgoto(\u001b[38;5;241m1000\u001b[39m, \u001b[38;5;241m1000\u001b[39m)\n\u001b[0;32m---> 31\u001b[0m \u001b[38;5;28;43mself\u001b[39;49m\u001b[38;5;241;43m.\u001b[39;49m\u001b[43msegment\u001b[49m\u001b[38;5;241m.\u001b[39mclear() \n\u001b[1;32m     32\u001b[0m \u001b[38;5;28mself\u001b[39m\u001b[38;5;241m.\u001b[39mcreate_snake()\n\u001b[1;32m     33\u001b[0m \u001b[38;5;28mself\u001b[39m\u001b[38;5;241m.\u001b[39mhead \u001b[38;5;241m=\u001b[39m \u001b[38;5;28mself\u001b[39m\u001b[38;5;241m.\u001b[39msegments[\u001b[38;5;241m0\u001b[39m]\n",
      "\u001b[0;31mAttributeError\u001b[0m: 'Snake' object has no attribute 'segment'"
     ]
    }
   ],
   "source": [
    "from turtle import Screen\n",
    "from snake import Snake\n",
    "from food import Food\n",
    "from scoreboard import Scoreboard\n",
    "import time\n",
    "\n",
    "screen = Screen()\n",
    "screen.setup(width=600, height=600)\n",
    "screen.bgcolor(\"black\")\n",
    "screen.title(\"Snake Game\")\n",
    "screen.tracer(0)\n",
    "\n",
    "snake = Snake()\n",
    "food = Food()\n",
    "scoreboard = Scoreboard()\n",
    "\n",
    "screen.listen()\n",
    "screen.onkey(snake.up, \"Up\")\n",
    "screen.onkey(snake.down, \"Down\")\n",
    "screen.onkey(snake.left, \"Left\")\n",
    "screen.onkey(snake.right, \"Right\")\n",
    "scoreboard.update_scoreboard()\n",
    "\n",
    "\n",
    "game_is_on = True\n",
    "while game_is_on:\n",
    "    screen.update()\n",
    "    time.sleep(0.1)\n",
    "    snake.move()\n",
    "\n",
    "    if snake.head.distance(food) < 15:\n",
    "        scoreboard.increase_scoreboard()\n",
    "        snake.extend()\n",
    "        food.refresh()\n",
    "\n",
    "    if snake.head.xcor() > 280 or snake.head.xcor() < -280 or snake.head.ycor() > 280 or snake.head.ycor() < -280:\n",
    "        scoreboard.reset()\n",
    "        snake.reset()\n",
    "\n",
    "    for segment in snake.segments[1:]:\n",
    "        if snake.head.distance(segment) < 10:\n",
    "            scoreboard.reset()\n",
    "            snake.reset()\n",
    "         \n",
    "\n",
    "\n",
    "screen.exitonclick()\n"
   ]
  },
  {
   "cell_type": "code",
   "execution_count": null,
   "id": "5e4af592-0314-4dba-9608-b589df589768",
   "metadata": {},
   "outputs": [],
   "source": []
  },
  {
   "cell_type": "code",
   "execution_count": null,
   "id": "3b845c83-cdb9-46ad-809f-2447ca5ed00a",
   "metadata": {},
   "outputs": [],
   "source": []
  }
 ],
 "metadata": {
  "kernelspec": {
   "display_name": "Python 3 (ipykernel)",
   "language": "python",
   "name": "python3"
  },
  "language_info": {
   "codemirror_mode": {
    "name": "ipython",
    "version": 3
   },
   "file_extension": ".py",
   "mimetype": "text/x-python",
   "name": "python",
   "nbconvert_exporter": "python",
   "pygments_lexer": "ipython3",
   "version": "3.12.4"
  }
 },
 "nbformat": 4,
 "nbformat_minor": 5
}
