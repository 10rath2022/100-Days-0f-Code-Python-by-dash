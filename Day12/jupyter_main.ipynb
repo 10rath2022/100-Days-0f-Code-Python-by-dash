{
 "cells": [
  {
   "cell_type": "code",
   "execution_count": 4,
   "id": "a42cd013-73c1-4951-bfc6-ee7057070af7",
   "metadata": {},
   "outputs": [],
   "source": [
    "# Day 12 - Scope & Number Guessing Game\n",
    "\n",
    "# Concepts Practised\n",
    "#     How to Modify a Global Variable\n",
    "#     Python Constants and Global Scope\n",
    "\n",
    "# The Number Guessing Game"
   ]
  },
  {
   "cell_type": "code",
   "execution_count": 5,
   "id": "648ceba8-a97d-4303-9cf8-74b34b13d609",
   "metadata": {},
   "outputs": [],
   "source": [
    "# print(\"Welcome to the Number Guessing Game!\")\n",
    "# print(\"I'm thinkg of a number between 1 and 100.\")\n",
    "\n",
    "# number = random.\n",
    "\n",
    "# level = input(\"Choose a difficulty. Type 'easy' or 'hard':\")\n",
    "\n",
    "# if level == 'easy':\n",
    "#     attempts = 10\n",
    "# elif level == 'hard':\n",
    "#     attempts = 5\n",
    "\n",
    "# while not attempts == 0:\n",
    "# input(\"Make a guess: \")\n",
    "\n",
    "# print(\"Too high.\")\n",
    "# print(\"Too low.\")\n",
    "# print(\"Guess again\")\n",
    "\n",
    "\n",
    "\n",
    "# print(f\"You have {attempts} remaining to guess the number\")\n",
    "\n"
   ]
  },
  {
   "cell_type": "code",
   "execution_count": 8,
   "id": "0e1bf27c-f3c8-4144-bf91-64f480c3dfc7",
   "metadata": {},
   "outputs": [
    {
     "name": "stdout",
     "output_type": "stream",
     "text": [
      "Welcome to the Number Guessing Game!\n",
      "I'm thinking of a number between 1 and 100.\n"
     ]
    },
    {
     "name": "stdin",
     "output_type": "stream",
     "text": [
      "Choose a difficulty. Type 'easy' or 'hard':  hard\n"
     ]
    },
    {
     "name": "stdout",
     "output_type": "stream",
     "text": [
      "You have 5 attempts remaining to guess the number.\n"
     ]
    },
    {
     "name": "stdin",
     "output_type": "stream",
     "text": [
      "Make a guess:  58\n"
     ]
    },
    {
     "name": "stdout",
     "output_type": "stream",
     "text": [
      "Too high.\n",
      "Guess again.\n",
      "You have 4 attempts remaining to guess the number.\n"
     ]
    },
    {
     "name": "stdin",
     "output_type": "stream",
     "text": [
      "Make a guess:  48\n"
     ]
    },
    {
     "name": "stdout",
     "output_type": "stream",
     "text": [
      "Too low.\n",
      "Guess again.\n",
      "You have 3 attempts remaining to guess the number.\n"
     ]
    },
    {
     "name": "stdin",
     "output_type": "stream",
     "text": [
      "Make a guess:  55\n"
     ]
    },
    {
     "name": "stdout",
     "output_type": "stream",
     "text": [
      "Too high.\n",
      "Guess again.\n",
      "You have 2 attempts remaining to guess the number.\n"
     ]
    },
    {
     "name": "stdin",
     "output_type": "stream",
     "text": [
      "Make a guess:  50\n"
     ]
    },
    {
     "name": "stdout",
     "output_type": "stream",
     "text": [
      "Too low.\n",
      "Guess again.\n",
      "You have 1 attempts remaining to guess the number.\n"
     ]
    },
    {
     "name": "stdin",
     "output_type": "stream",
     "text": [
      "Make a guess:  54\n"
     ]
    },
    {
     "name": "stdout",
     "output_type": "stream",
     "text": [
      "Congratulations! You've guessed the number 54 correctly!\n"
     ]
    }
   ],
   "source": [
    "import random\n",
    "\n",
    "print(\"Welcome to the Number Guessing Game!\")\n",
    "print(\"I'm thinking of a number between 1 and 100.\")\n",
    "\n",
    "# Generate a random number between 1 and 100\n",
    "number = random.randint(1, 100)\n",
    "\n",
    "# Get the difficulty level from the user\n",
    "level = input(\"Choose a difficulty. Type 'easy' or 'hard': \")\n",
    "\n",
    "# Set the number of attempts based on the difficulty level\n",
    "if level == 'easy':\n",
    "    attempts = 10\n",
    "elif level == 'hard':\n",
    "    attempts = 5\n",
    "else:\n",
    "    print(\"Invalid difficulty level. Please restart the game.\")\n",
    "    exit()\n",
    "\n",
    "# Start the guessing loop\n",
    "guessed_correctly = False\n",
    "\n",
    "while attempts > 0 and not guessed_correctly:\n",
    "    print(f\"You have {attempts} attempts remaining to guess the number.\")\n",
    "    \n",
    "    # Get the user's guess and convert it to an integer\n",
    "    guess = int(input(\"Make a guess: \"))\n",
    "\n",
    "    # Check if the guess is correct, too high, or too low\n",
    "    if guess == number:\n",
    "        guessed_correctly = True\n",
    "        print(f\"Congratulations! You've guessed the number {number} correctly!\")\n",
    "    elif guess > number:\n",
    "        print(\"Too high.\")\n",
    "    else:\n",
    "        print(\"Too low.\")\n",
    "    \n",
    "    # Decrease the number of attempts\n",
    "    attempts -= 1\n",
    "\n",
    "    if attempts == 0 and not guessed_correctly:\n",
    "        print(f\"You've run out of attempts. The correct number was {number}. Better luck next time!\")\n",
    "    elif not guessed_correctly:\n",
    "        print(\"Guess again.\")\n"
   ]
  },
  {
   "cell_type": "code",
   "execution_count": null,
   "id": "8dd1a038-489c-405f-95f3-fd9f3f1553ef",
   "metadata": {},
   "outputs": [],
   "source": []
  }
 ],
 "metadata": {
  "kernelspec": {
   "display_name": "Python 3 (ipykernel)",
   "language": "python",
   "name": "python3"
  },
  "language_info": {
   "codemirror_mode": {
    "name": "ipython",
    "version": 3
   },
   "file_extension": ".py",
   "mimetype": "text/x-python",
   "name": "python",
   "nbconvert_exporter": "python",
   "pygments_lexer": "ipython3",
   "version": "3.12.4"
  }
 },
 "nbformat": 4,
 "nbformat_minor": 5
}
