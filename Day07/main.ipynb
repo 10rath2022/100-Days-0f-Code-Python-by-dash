{
 "cells": [
  {
   "cell_type": "code",
   "execution_count": 24,
   "id": "3179db56-58f3-4476-b4f2-3b23d3cf3a2f",
   "metadata": {},
   "outputs": [
    {
     "name": "stdout",
     "output_type": "stream",
     "text": [
      "aardvark\n"
     ]
    },
    {
     "name": "stdin",
     "output_type": "stream",
     "text": [
      "Guess a letter:  a\n"
     ]
    },
    {
     "name": "stdout",
     "output_type": "stream",
     "text": [
      "aa___a__"
     ]
    }
   ],
   "source": [
    "# Day 07\n",
    "import random\n",
    "\n",
    "word_list = [\"aardvark\",\"baboon\",\"camel\"]\n",
    "\n",
    "#TODO-1 - Randomly choose a word from the word_list and assign it to a variable called chosen_word. the print it\n",
    "\n",
    "chosen_word = random.choice(word_list)\n",
    "print(chosen_word)\n",
    "\n",
    "#TODO-2 - Ask the user to guess a letter and assign their answer to a variable called guess. Make guess lowercase.\n",
    "guess = input(\"Guess a letter: \").lower()\n",
    "print(guess)\n",
    "\n",
    "#TODO-3 - Check if the letter the user guessed(Guess) is one of the letters in the chosen_word. Print \"right\" if it\n",
    "# is, \"Wrong\" if it's not.\n",
    "\n",
    "for letter in chosen_word:\n",
    "    if letter == guess:\n",
    "        print(\"right\")\n",
    "    else:\n",
    "        print(\"wrong\")"
   ]
  },
  {
   "cell_type": "code",
   "execution_count": null,
   "id": "5800548e-5ae7-49cf-8a18-bfa6a02e921f",
   "metadata": {},
   "outputs": [],
   "source": [
    "# # Day 07\n",
    "# import random\n",
    "\n",
    "# word_list = [\"aardvark\",\"baboon\",\"camel\"]\n",
    "\n",
    "# #TODO-1 - Randomly choose a word from the word_list and assign it to a variable called chosen_word. the print it\n",
    "\n",
    "# chosen_word = random.choice(word_list)\n",
    "# print(chosen_word)\n",
    "\n",
    "# #TODO-2 - Ask the user to guess a letter and assign their answer to a variable called guess. Make guess lowercase.\n",
    "# guess = input(\"Guess a letter: \").lower()\n",
    "# # print(guess)\n",
    "\n",
    "# for letter in chosen_word:\n",
    "#     if letter == guess:\n",
    "#         print(letter, end='')\n",
    "#     else:\n",
    "#         print(\"_\", end='')"
   ]
  },
  {
   "cell_type": "code",
   "execution_count": 30,
   "id": "1d486ba6-043a-4ba7-94f1-7a2c673fa70e",
   "metadata": {},
   "outputs": [
    {
     "name": "stdout",
     "output_type": "stream",
     "text": [
      "aardvark\n",
      "________\n"
     ]
    },
    {
     "name": "stdin",
     "output_type": "stream",
     "text": [
      "Guess a letter:  a\n"
     ]
    },
    {
     "name": "stdout",
     "output_type": "stream",
     "text": [
      "aa___a__\n"
     ]
    }
   ],
   "source": [
    "\n",
    "import random\n",
    "\n",
    "word_list = [\"aardvark\",\"baboon\",\"camel\"]\n",
    "\n",
    "chosen_word = random.choice(word_list)\n",
    "print(chosen_word)\n",
    "\n",
    "#TODO-1 - Create a \"placeholder\" with the same number of blanks as the chosen_word\n",
    "placeholder = \"\"\n",
    "word_length = len(chosen_word)\n",
    "\n",
    "for position in range(word_length):\n",
    "    placeholder += \"_\"\n",
    "\n",
    "print(placeholder)\n",
    "\n",
    "guess = input(\"Guess a letter: \").lower()\n",
    "# print(guess)\n",
    "\n",
    "#TODO-2: Create a \"display\" that puts the guess letter in the right positions and _ in\n",
    "\n",
    "display = \"\"\n",
    "\n",
    "for letter in chosen_word:\n",
    "    if letter == guess:\n",
    "        display += letter\n",
    "    else:\n",
    "        display += \"_\"\n",
    "print(display)"
   ]
  },
  {
   "cell_type": "code",
   "execution_count": 35,
   "id": "582222a0-d968-46a2-b74c-9cf9d039052c",
   "metadata": {
    "scrolled": true
   },
   "outputs": [
    {
     "name": "stdout",
     "output_type": "stream",
     "text": [
      "camel\n",
      "_____\n"
     ]
    },
    {
     "name": "stdin",
     "output_type": "stream",
     "text": [
      "Guess a letter:  a\n"
     ]
    },
    {
     "name": "stdout",
     "output_type": "stream",
     "text": [
      "_a___\n"
     ]
    },
    {
     "name": "stdin",
     "output_type": "stream",
     "text": [
      "Guess a letter:  c\n"
     ]
    },
    {
     "name": "stdout",
     "output_type": "stream",
     "text": [
      "ca___\n"
     ]
    },
    {
     "name": "stdin",
     "output_type": "stream",
     "text": [
      "Guess a letter:  m\n"
     ]
    },
    {
     "name": "stdout",
     "output_type": "stream",
     "text": [
      "cam__\n"
     ]
    },
    {
     "name": "stdin",
     "output_type": "stream",
     "text": [
      "Guess a letter:  e\n"
     ]
    },
    {
     "name": "stdout",
     "output_type": "stream",
     "text": [
      "came_\n"
     ]
    },
    {
     "name": "stdin",
     "output_type": "stream",
     "text": [
      "Guess a letter:  l\n"
     ]
    },
    {
     "name": "stdout",
     "output_type": "stream",
     "text": [
      "camel\n",
      "You Win.\n"
     ]
    }
   ],
   "source": [
    "#Stage 3\n",
    "import random\n",
    "\n",
    "word_list = [\"aardvark\",\"baboon\",\"camel\"]\n",
    "\n",
    "chosen_word = random.choice(word_list)\n",
    "print(chosen_word)\n",
    "\n",
    "placeholder = \"\"\n",
    "word_length = len(chosen_word)\n",
    "\n",
    "for position in range(word_length):\n",
    "    placeholder += \"_\"\n",
    "\n",
    "print(placeholder)\n",
    "\n",
    "#TODO-1 - use the while loop to let the user guess again.\n",
    "\n",
    "game_over = False\n",
    "correct_letters = []\n",
    "\n",
    "while not game_over:\n",
    "    guess = input(\"Guess a letter: \").lower()\n",
    "    # print(guess)\n",
    "    display = \"\"\n",
    "\n",
    "    #TODO-2: change the for loop so that you keep the previous correct letters in the display \n",
    "      \n",
    "    for letter in chosen_word:\n",
    "        if letter == guess:\n",
    "            display += letter\n",
    "            correct_letters.append(guess)\n",
    "        elif letter in correct_letters:\n",
    "            display += letter\n",
    "        else:\n",
    "            display += \"_\"\n",
    "            \n",
    "    print(display)\n",
    "\n",
    "    if \"_\" not in display:\n",
    "        game_over = True\n",
    "        print(\"Yeeeeeeee!!!!!!!!!!!! You Win.\")"
   ]
  },
  {
   "cell_type": "code",
   "execution_count": 48,
   "id": "8670f640-577f-4b56-85d3-a153d968465b",
   "metadata": {},
   "outputs": [
    {
     "name": "stderr",
     "output_type": "stream",
     "text": [
      "<>:23: SyntaxWarning: invalid escape sequence '\\ '\n",
      "<>:31: SyntaxWarning: invalid escape sequence '\\ '\n",
      "<>:39: SyntaxWarning: invalid escape sequence '\\ '\n",
      "<>:23: SyntaxWarning: invalid escape sequence '\\ '\n",
      "<>:31: SyntaxWarning: invalid escape sequence '\\ '\n",
      "<>:39: SyntaxWarning: invalid escape sequence '\\ '\n",
      "/var/folders/ll/d13_x4n97234wghtr88ntn9c0000gn/T/ipykernel_4101/1774558112.py:23: SyntaxWarning: invalid escape sequence '\\ '\n",
      "  stages = ['''\n",
      "/var/folders/ll/d13_x4n97234wghtr88ntn9c0000gn/T/ipykernel_4101/1774558112.py:31: SyntaxWarning: invalid escape sequence '\\ '\n",
      "  ''', '''\n",
      "/var/folders/ll/d13_x4n97234wghtr88ntn9c0000gn/T/ipykernel_4101/1774558112.py:39: SyntaxWarning: invalid escape sequence '\\ '\n",
      "  ''', '''\n"
     ]
    },
    {
     "name": "stdout",
     "output_type": "stream",
     "text": [
      "\n",
      "█░█░█ █▀▀ █░░ █▀▀ █▀█ █▀▄▀█ █▀▀   ▀█▀ █▀█ ▀\n",
      "▀▄▀▄▀ ██▄ █▄▄ █▄▄ █▄█ █░▀░█ ██▄   ░█░ █▄█ ▄\n",
      "\n",
      "██╗░░██╗░█████╗░███╗░░██╗░██████╗░███╗░░░███╗░█████╗░███╗░░██╗\n",
      "██║░░██║██╔══██╗████╗░██║██╔════╝░████╗░████║██╔══██╗████╗░██║\n",
      "███████║███████║██╔██╗██║██║░░██╗░██╔████╔██║███████║██╔██╗██║\n",
      "██╔══██║██╔══██║██║╚████║██║░░╚██╗██║╚██╔╝██║██╔══██║██║╚████║\n",
      "██║░░██║██║░░██║██║░╚███║╚██████╔╝██║░╚═╝░██║██║░░██║██║░╚███║\n",
      "╚═╝░░╚═╝╚═╝░░╚═╝╚═╝░░╚══╝░╚═════╝░╚═╝░░░░░╚═╝╚═╝░░╚═╝╚═╝░░╚══╝\n",
      "aardvark\n",
      "________\n"
     ]
    },
    {
     "name": "stdin",
     "output_type": "stream",
     "text": [
      "Guess a letter:  aa\n"
     ]
    },
    {
     "name": "stdout",
     "output_type": "stream",
     "text": [
      "________\n",
      "\n",
      "  +---+\n",
      "  |   |\n",
      "      |\n",
      "      |\n",
      "      |\n",
      "      |\n",
      "=========\n",
      "\n"
     ]
    },
    {
     "name": "stdin",
     "output_type": "stream",
     "text": [
      "Guess a letter:  a\n"
     ]
    },
    {
     "name": "stdout",
     "output_type": "stream",
     "text": [
      "aa___a__\n",
      "\n",
      "  +---+\n",
      "  |   |\n",
      "      |\n",
      "      |\n",
      "      |\n",
      "      |\n",
      "=========\n",
      "\n"
     ]
    },
    {
     "name": "stdin",
     "output_type": "stream",
     "text": [
      "Guess a letter:  r\n"
     ]
    },
    {
     "name": "stdout",
     "output_type": "stream",
     "text": [
      "aar__ar_\n",
      "\n",
      "  +---+\n",
      "  |   |\n",
      "      |\n",
      "      |\n",
      "      |\n",
      "      |\n",
      "=========\n",
      "\n"
     ]
    },
    {
     "name": "stdin",
     "output_type": "stream",
     "text": [
      "Guess a letter:  d\n"
     ]
    },
    {
     "name": "stdout",
     "output_type": "stream",
     "text": [
      "aard_ar_\n",
      "\n",
      "  +---+\n",
      "  |   |\n",
      "      |\n",
      "      |\n",
      "      |\n",
      "      |\n",
      "=========\n",
      "\n"
     ]
    },
    {
     "name": "stdin",
     "output_type": "stream",
     "text": [
      "Guess a letter:  v\n"
     ]
    },
    {
     "name": "stdout",
     "output_type": "stream",
     "text": [
      "aardvar_\n",
      "\n",
      "  +---+\n",
      "  |   |\n",
      "      |\n",
      "      |\n",
      "      |\n",
      "      |\n",
      "=========\n",
      "\n"
     ]
    },
    {
     "name": "stdin",
     "output_type": "stream",
     "text": [
      "Guess a letter:  k\n"
     ]
    },
    {
     "name": "stdout",
     "output_type": "stream",
     "text": [
      "aardvark\n",
      "Yeeeeeeee!!!!!!!!!!!! You Win\n",
      " \n",
      "█▀▀ █▀█ █▀█ █▀▄   █░█░█ █▀█ █▀█ █▄▀ █\n",
      "█▄█ █▄█ █▄█ █▄▀   ▀▄▀▄▀ █▄█ █▀▄ █░█ ▄\n",
      "\n",
      "\n",
      "  +---+\n",
      "  |   |\n",
      "      |\n",
      "      |\n",
      "      |\n",
      "      |\n",
      "=========\n",
      "\n"
     ]
    }
   ],
   "source": [
    "# Stage 4\n",
    "import random\n",
    "logo3 = '''\n",
    "█░█░█ █▀▀ █░░ █▀▀ █▀█ █▀▄▀█ █▀▀   ▀█▀ █▀█ ▀\n",
    "▀▄▀▄▀ ██▄ █▄▄ █▄▄ █▄█ █░▀░█ ██▄   ░█░ █▄█ ▄\n",
    "\n",
    "██╗░░██╗░█████╗░███╗░░██╗░██████╗░███╗░░░███╗░█████╗░███╗░░██╗\n",
    "██║░░██║██╔══██╗████╗░██║██╔════╝░████╗░████║██╔══██╗████╗░██║\n",
    "███████║███████║██╔██╗██║██║░░██╗░██╔████╔██║███████║██╔██╗██║\n",
    "██╔══██║██╔══██║██║╚████║██║░░╚██╗██║╚██╔╝██║██╔══██║██║╚████║\n",
    "██║░░██║██║░░██║██║░╚███║╚██████╔╝██║░╚═╝░██║██║░░██║██║░╚███║\n",
    "╚═╝░░╚═╝╚═╝░░╚═╝╚═╝░░╚══╝░╚═════╝░╚═╝░░░░░╚═╝╚═╝░░╚═╝╚═╝░░╚══╝'''\n",
    "\n",
    "print(logo3)\n",
    "\n",
    "\n",
    "logo2 = '''\n",
    "█▀▀ █▀█ █▀█ █▀▄   █░█░█ █▀█ █▀█ █▄▀ █\n",
    "█▄█ █▄█ █▄█ █▄▀   ▀▄▀▄▀ █▄█ █▀▄ █░█ ▄\n",
    "'''\n",
    "\n",
    "\n",
    "stages = ['''\n",
    "  +---+\n",
    "  |   |\n",
    "  O   |\n",
    " /|\\  |\n",
    " / \\  |\n",
    "      |\n",
    "=========\n",
    "''', '''\n",
    "  +---+\n",
    "  |   |\n",
    "  O   |\n",
    " /|\\  |\n",
    " /    |\n",
    "      |\n",
    "=========\n",
    "''', '''\n",
    "  +---+\n",
    "  |   |\n",
    "  O   |\n",
    " /|\\  |\n",
    "      |\n",
    "      |\n",
    "=========\n",
    "''', '''\n",
    "  +---+\n",
    "  |   |\n",
    "  O   |\n",
    " /|   |\n",
    "      |\n",
    "      |\n",
    "=========\n",
    "''', '''\n",
    "  +---+\n",
    "  |   |\n",
    "  O   |\n",
    "  |   |\n",
    "      |\n",
    "      |\n",
    "=========\n",
    "''', '''\n",
    "  +---+\n",
    "  |   |\n",
    "  O   |\n",
    "      |\n",
    "      |\n",
    "      |\n",
    "=========\n",
    "''', '''\n",
    "  +---+\n",
    "  |   |\n",
    "      |\n",
    "      |\n",
    "      |\n",
    "      |\n",
    "=========\n",
    "''']\n",
    "\n",
    "word_list = [\"aardvark\",\"baboon\",\"camel\"]\n",
    "\n",
    "# TODO-1: - Create a variable called 'lives to keep track of the how my lives lef\n",
    "# Set lives to 6\n",
    "\n",
    "lives = 6\n",
    "\n",
    "chosen_word = random.choice(word_list)\n",
    "print(chosen_word)\n",
    "\n",
    "placeholder = \"\"\n",
    "word_length = len(chosen_word)\n",
    "\n",
    "for position in range(word_length):\n",
    "    placeholder += \"_\"\n",
    "\n",
    "print(placeholder)\n",
    "\n",
    "game_over = False\n",
    "correct_letters = []\n",
    "\n",
    "\n",
    "while not game_over:\n",
    "    guess = input(\"Guess a letter: \").lower()\n",
    "    # print(guess)\n",
    "    display = \"\"\n",
    "      \n",
    "    for letter in chosen_word:\n",
    "        if letter == guess:\n",
    "            display += letter\n",
    "            correct_letters.append(guess)\n",
    "        elif letter in correct_letters:\n",
    "            display += letter\n",
    "        else:\n",
    "            display += \"_\"\n",
    "            \n",
    "    print(display)\n",
    "\n",
    "    # TODO-2: If guess is not a letter in chosen_word, then reduce lives by 1\n",
    "    # if lives goes down to 0 then the game should stop and it say you lose\n",
    "    if guess not in chosen_word:\n",
    "        lives -= 1\n",
    "        if lives == 0:\n",
    "            game_over = True\n",
    "            print(\"Oooopss...You lost\")\n",
    "    \n",
    "    if \"_\" not in display:\n",
    "        game_over = True\n",
    "        print(f\"Yeeeeeeee!!!!!!!!!!!! You Win\\n {logo2}\")\n",
    "\n",
    "    # TODO-3: print the ASCII art from 'stages'\n",
    "    # that corresponds to the current number of 'lives' the remaining\n",
    "    \n",
    "    print(stages[lives])"
   ]
  },
  {
   "cell_type": "code",
   "execution_count": 11,
   "id": "3e283071-ee4c-4ee2-82ba-0fba99adf2f9",
   "metadata": {},
   "outputs": [
    {
     "name": "stdout",
     "output_type": "stream",
     "text": [
      "\n",
      "█░█░█ █▀▀ █░░ █▀▀ █▀█ █▀▄▀█ █▀▀   ▀█▀ █▀█ ▀\n",
      "▀▄▀▄▀ ██▄ █▄▄ █▄▄ █▄█ █░▀░█ ██▄   ░█░ █▄█ ▄\n",
      "\n",
      "██╗░░██╗░█████╗░███╗░░██╗░██████╗░███╗░░░███╗░█████╗░███╗░░██╗\n",
      "██║░░██║██╔══██╗████╗░██║██╔════╝░████╗░████║██╔══██╗████╗░██║\n",
      "███████║███████║██╔██╗██║██║░░██╗░██╔████╔██║███████║██╔██╗██║\n",
      "██╔══██║██╔══██║██║╚████║██║░░╚██╗██║╚██╔╝██║██╔══██║██║╚████║\n",
      "██║░░██║██║░░██║██║░╚███║╚██████╔╝██║░╚═╝░██║██║░░██║██║░╚███║\n",
      "╚═╝░░╚═╝╚═╝░░╚═╝╚═╝░░╚══╝░╚═════╝░╚═╝░░░░░╚═╝╚═╝░░╚═╝╚═╝░░╚══╝\n",
      "gizmo\n",
      "_____\n"
     ]
    },
    {
     "name": "stdin",
     "output_type": "stream",
     "text": [
      "You have left 6 lives, Please Guess a letter:  df\n"
     ]
    },
    {
     "name": "stdout",
     "output_type": "stream",
     "text": [
      "_____\n",
      "'df' letter is not in the word. You have left 5 lives\n",
      "\n",
      "  +---+\n",
      "  |   |\n",
      "  O   |\n",
      "      |\n",
      "      |\n",
      "      |\n",
      "=========\n",
      "\n"
     ]
    },
    {
     "name": "stdin",
     "output_type": "stream",
     "text": [
      "You have left 5 lives, Please Guess a letter:  fdg\n"
     ]
    },
    {
     "name": "stdout",
     "output_type": "stream",
     "text": [
      "_____\n",
      "'fdg' letter is not in the word. You have left 4 lives\n",
      "\n",
      "  +---+\n",
      "  |   |\n",
      "  O   |\n",
      "  |   |\n",
      "      |\n",
      "      |\n",
      "=========\n",
      "\n"
     ]
    },
    {
     "name": "stdin",
     "output_type": "stream",
     "text": [
      "You have left 4 lives, Please Guess a letter:  dgf\n"
     ]
    },
    {
     "name": "stdout",
     "output_type": "stream",
     "text": [
      "_____\n",
      "'dgf' letter is not in the word. You have left 3 lives\n",
      "\n",
      "  +---+\n",
      "  |   |\n",
      "  O   |\n",
      " /|   |\n",
      "      |\n",
      "      |\n",
      "=========\n",
      "\n"
     ]
    },
    {
     "name": "stdin",
     "output_type": "stream",
     "text": [
      "You have left 3 lives, Please Guess a letter:  gfd\n"
     ]
    },
    {
     "name": "stdout",
     "output_type": "stream",
     "text": [
      "_____\n",
      "'gfd' letter is not in the word. You have left 2 lives\n",
      "\n",
      "  +---+\n",
      "  |   |\n",
      "  O   |\n",
      " /|\\  |\n",
      "      |\n",
      "      |\n",
      "=========\n",
      "\n"
     ]
    },
    {
     "name": "stdin",
     "output_type": "stream",
     "text": [
      "You have left 2 lives, Please Guess a letter:  dfg\n"
     ]
    },
    {
     "name": "stdout",
     "output_type": "stream",
     "text": [
      "_____\n",
      "\n",
      "  +---+\n",
      "  |   |\n",
      "  O   |\n",
      " /|\\  |\n",
      " /    |\n",
      "      |\n",
      "=========\n",
      "\n"
     ]
    },
    {
     "name": "stdin",
     "output_type": "stream",
     "text": [
      "You have left 1 lives, Please Guess a letter:  dfg\n"
     ]
    },
    {
     "name": "stdout",
     "output_type": "stream",
     "text": [
      "_____\n",
      "Oooopss...You lost\n",
      "\n",
      "  +---+\n",
      "  |   |\n",
      "  O   |\n",
      " /|\\  |\n",
      " / \\  |\n",
      "      |\n",
      "=========\n",
      "\n"
     ]
    }
   ],
   "source": [
    "\n",
    "import random\n",
    "import hangman_words\n",
    "import stages\n",
    "\n",
    "print(stages.logo3)\n",
    "\n",
    "# TODO-1: - Create a variable called 'lives to keep track of the how my lives lef\n",
    "# Set lives to 6\n",
    "\n",
    "lives = 6\n",
    "\n",
    "chosen_word = random.choice(hangman_words.word_list)\n",
    "print(chosen_word)\n",
    "\n",
    "placeholder = \"\"\n",
    "word_length = len(chosen_word)\n",
    "\n",
    "for position in range(word_length):\n",
    "    placeholder += \"_\"\n",
    "\n",
    "print(placeholder)\n",
    "\n",
    "game_over = False\n",
    "correct_letters = []\n",
    "\n",
    "\n",
    "while not game_over:\n",
    "    guess = input(f\"You have left {lives} lives, Please Guess a letter: \").lower()\n",
    "    # print(guess)\n",
    "    display = \"\"\n",
    "      \n",
    "    for letter in chosen_word:\n",
    "        if letter == guess:\n",
    "            display += letter\n",
    "            correct_letters.append(guess)\n",
    "        elif letter in correct_letters:\n",
    "            display += letter\n",
    "        else:\n",
    "            display += \"_\"\n",
    "            \n",
    "    print(display)\n",
    "\n",
    "    # TODO-2: If guess is not a letter in chosen_word, then reduce lives by 1\n",
    "    # if lives goes down to 0 then the game should stop and it say you lose\n",
    "    if guess not in chosen_word:\n",
    "        lives -= 1\n",
    "        if lives > 1:\n",
    "            print(f\"'{guess}' letter is not in the word. You have left {lives} lives\")\n",
    "        elif lives == 0:\n",
    "                game_over = True\n",
    "                print(\"Oooopss...You lost\")\n",
    "    \n",
    "    if \"_\" not in display:\n",
    "        game_over = True\n",
    "        print(f\"Yeeeeeeee!!!!!!!!!!!! You Win\\n {stages.logo2}\")\n",
    "\n",
    "    # TODO-3: print the ASCII art from 'stages'\n",
    "    # that corresponds to the current number of 'lives' the remaining\n",
    "    \n",
    "    print(stages.stages[lives])"
   ]
  },
  {
   "cell_type": "code",
   "execution_count": null,
   "id": "42b61e7c-48a9-41b6-af77-0180d837ebe4",
   "metadata": {},
   "outputs": [],
   "source": []
  }
 ],
 "metadata": {
  "kernelspec": {
   "display_name": "Python 3 (ipykernel)",
   "language": "python",
   "name": "python3"
  },
  "language_info": {
   "codemirror_mode": {
    "name": "ipython",
    "version": 3
   },
   "file_extension": ".py",
   "mimetype": "text/x-python",
   "name": "python",
   "nbconvert_exporter": "python",
   "pygments_lexer": "ipython3",
   "version": "3.12.4"
  }
 },
 "nbformat": 4,
 "nbformat_minor": 5
}
