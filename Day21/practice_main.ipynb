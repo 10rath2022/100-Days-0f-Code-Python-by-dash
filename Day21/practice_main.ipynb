{
 "cells": [
  {
   "cell_type": "code",
   "execution_count": 3,
   "id": "a68b04ca-d9d7-4a36-9f50-470694d484e5",
   "metadata": {},
   "outputs": [],
   "source": [
    "# class Dog:\n",
    "#     def __init__(self):\n",
    "#         self.temperament = \"loyal\"\n",
    "\n",
    "\n",
    "#     def bark(self):\n",
    "#         print(\"woof, woof!!\")\n",
    "\n",
    "# class Labrador(Dog):\n",
    "#     def __init__(self):\n",
    "#         super().__init__()\n",
    "#         self.is_a_good_boy = True\n",
    "\n",
    "#     def bark(self):\n",
    "#         super().bark()\n",
    "#         print(\"Greetings, good sir. How do you do?\")"
   ]
  },
  {
   "cell_type": "code",
   "execution_count": 1,
   "id": "bd08aaca-760b-410d-920c-f72b262a6abc",
   "metadata": {},
   "outputs": [],
   "source": [
    "from turtle import Screen\n",
    "from snake import Snake\n",
    "from food import Food\n",
    "from scoreboard import Scoreboard\n",
    "import time\n",
    "\n",
    "screen = Screen()\n",
    "screen.setup(width=600, height=600)\n",
    "screen.bgcolor(\"black\")\n",
    "screen.title(\"Snake Game\")\n",
    "screen.tracer(0)\n",
    "\n",
    "snake = Snake()\n",
    "food = Food()\n",
    "scoreboard = Scoreboard()\n",
    "\n",
    "screen.listen()\n",
    "screen.onkey(snake.up, \"Up\")\n",
    "screen.onkey(snake.down, \"Down\")\n",
    "screen.onkey(snake.left, \"Left\")\n",
    "screen.onkey(snake.right, \"Right\")\n",
    "scoreboard.start_scoreboard()\n",
    "\n",
    "\n",
    "game_is_on = True\n",
    "while game_is_on:\n",
    "    screen.update()\n",
    "    time.sleep(0.1)\n",
    "    snake.move()\n",
    "\n",
    "    if snake.head.distance(food) < 15:\n",
    "        scoreboard.increase_scoreboard()\n",
    "        snake.extend()\n",
    "        food.refresh()\n",
    "\n",
    "    if snake.head.xcor() > 280 or snake.head.xcor() < -280 or snake.head.ycor() > 280 or snake.head.ycor() < -280:\n",
    "        game_is_on = False\n",
    "        scoreboard.game_over()\n",
    "\n",
    "    for segment in snake.segments[1:]:\n",
    "        if snake.head.distance(segment) < 10:\n",
    "            game_is_on = False\n",
    "            scoreboard.game_over()\n",
    "\n",
    "\n",
    "screen.exitonclick()\n"
   ]
  },
  {
   "cell_type": "code",
   "execution_count": null,
   "id": "5e4af592-0314-4dba-9608-b589df589768",
   "metadata": {},
   "outputs": [],
   "source": []
  },
  {
   "cell_type": "code",
   "execution_count": null,
   "id": "3b845c83-cdb9-46ad-809f-2447ca5ed00a",
   "metadata": {},
   "outputs": [],
   "source": []
  }
 ],
 "metadata": {
  "kernelspec": {
   "display_name": "Python 3 (ipykernel)",
   "language": "python",
   "name": "python3"
  },
  "language_info": {
   "codemirror_mode": {
    "name": "ipython",
    "version": 3
   },
   "file_extension": ".py",
   "mimetype": "text/x-python",
   "name": "python",
   "nbconvert_exporter": "python",
   "pygments_lexer": "ipython3",
   "version": "3.12.4"
  }
 },
 "nbformat": 4,
 "nbformat_minor": 5
}
