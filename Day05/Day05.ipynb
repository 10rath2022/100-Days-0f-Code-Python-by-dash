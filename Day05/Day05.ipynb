{
 "cells": [
  {
   "cell_type": "code",
   "execution_count": 1,
   "id": "1a9a433a-9279-428d-acd3-4ff14a7bd1eb",
   "metadata": {},
   "outputs": [],
   "source": [
    "#### Day05 ####"
   ]
  },
  {
   "cell_type": "code",
   "execution_count": null,
   "id": "8c36d12c-fe01-496b-86ea-4f53bc3f06c5",
   "metadata": {},
   "outputs": [],
   "source": [
    "## for loops, range and code blocks"
   ]
  },
  {
   "cell_type": "code",
   "execution_count": null,
   "id": "ba6e5681-1c67-4761-bf03-75a338f0b864",
   "metadata": {},
   "outputs": [],
   "source": []
  },
  {
   "cell_type": "code",
   "execution_count": 3,
   "id": "43441ee4-e162-4fb2-aaf4-9bfa1c7891e1",
   "metadata": {},
   "outputs": [
    {
     "name": "stdout",
     "output_type": "stream",
     "text": [
      "Apple\n",
      "Apple pie\n",
      "Peach\n",
      "Peach pie\n",
      "Pear\n",
      "Pear pie\n",
      "['Apple', 'Peach', 'Pear']\n"
     ]
    }
   ],
   "source": [
    "fruits = [\"Apple\",\"Peach\",\"Pear\"]\n",
    "for fruit in fruits:\n",
    "    print(fruit)\n",
    "    print(fruit+\" pie\")\n",
    "\n",
    "print(fruits)"
   ]
  },
  {
   "cell_type": "code",
   "execution_count": null,
   "id": "517d2e16-549a-4af9-ab82-d092670c3523",
   "metadata": {},
   "outputs": [],
   "source": []
  },
  {
   "cell_type": "code",
   "execution_count": 4,
   "id": "6449500f-3f1a-4572-b35c-d4ccb524b146",
   "metadata": {},
   "outputs": [
    {
     "data": {
      "text/plain": [
       "188"
      ]
     },
     "execution_count": 4,
     "metadata": {},
     "output_type": "execute_result"
    }
   ],
   "source": [
    "student_scores = [131, 151, 54, 188, 107, 145, 59, 156, 139, 105]\n",
    "max(student_scores)"
   ]
  },
  {
   "cell_type": "code",
   "execution_count": 26,
   "id": "2f0a9ce7-4e7d-468f-ac48-0301d8689629",
   "metadata": {},
   "outputs": [
    {
     "name": "stdout",
     "output_type": "stream",
     "text": [
      "188\n"
     ]
    }
   ],
   "source": [
    "student_scores = [131, 151, 54, 188, 107, 145, 59, 156, 139, 105]\n",
    "\n",
    "max_score = 0\n",
    "\n",
    "for score in student_scores:\n",
    "    if score > max_score:\n",
    "        max_score = score\n",
    "print(max_score)"
   ]
  },
  {
   "cell_type": "code",
   "execution_count": 36,
   "id": "dd30dec3-b311-4a97-a5cb-2bdcf7a88bc6",
   "metadata": {},
   "outputs": [
    {
     "name": "stdout",
     "output_type": "stream",
     "text": [
      "5050\n"
     ]
    }
   ],
   "source": [
    "sum = 0\n",
    "for number in range(1,101):\n",
    "    sum += number\n",
    "print(sum)"
   ]
  },
  {
   "cell_type": "code",
   "execution_count": null,
   "id": "1de2e95a-93c3-4744-8ce5-1ec4db3d6a48",
   "metadata": {},
   "outputs": [],
   "source": []
  },
  {
   "cell_type": "code",
   "execution_count": 1,
   "id": "18450d60-602e-405a-bcab-336bd09aa3e3",
   "metadata": {},
   "outputs": [
    {
     "name": "stdout",
     "output_type": "stream",
     "text": [
      "1\n",
      "2\n",
      "Fizz\n",
      "4\n",
      "Buzz\n",
      "Fizz\n",
      "7\n",
      "8\n",
      "Fizz\n",
      "Buzz\n",
      "11\n",
      "Fizz\n",
      "13\n",
      "14\n",
      "FizzBuzz\n",
      "16\n",
      "17\n",
      "Fizz\n",
      "19\n",
      "Buzz\n",
      "Fizz\n",
      "22\n",
      "23\n",
      "Fizz\n",
      "Buzz\n",
      "26\n",
      "Fizz\n",
      "28\n",
      "29\n",
      "FizzBuzz\n",
      "31\n",
      "32\n",
      "Fizz\n",
      "34\n",
      "Buzz\n",
      "Fizz\n",
      "37\n",
      "38\n",
      "Fizz\n",
      "Buzz\n",
      "41\n",
      "Fizz\n",
      "43\n",
      "44\n",
      "FizzBuzz\n",
      "46\n",
      "47\n",
      "Fizz\n",
      "49\n",
      "Buzz\n",
      "Fizz\n",
      "52\n",
      "53\n",
      "Fizz\n",
      "Buzz\n",
      "56\n",
      "Fizz\n",
      "58\n",
      "59\n",
      "FizzBuzz\n",
      "61\n",
      "62\n",
      "Fizz\n",
      "64\n",
      "Buzz\n",
      "Fizz\n",
      "67\n",
      "68\n",
      "Fizz\n",
      "Buzz\n",
      "71\n",
      "Fizz\n",
      "73\n",
      "74\n",
      "FizzBuzz\n",
      "76\n",
      "77\n",
      "Fizz\n",
      "79\n",
      "Buzz\n",
      "Fizz\n",
      "82\n",
      "83\n",
      "Fizz\n",
      "Buzz\n",
      "86\n",
      "Fizz\n",
      "88\n",
      "89\n",
      "FizzBuzz\n",
      "91\n",
      "92\n",
      "Fizz\n",
      "94\n",
      "Buzz\n",
      "Fizz\n",
      "97\n",
      "98\n",
      "Fizz\n",
      "Buzz\n"
     ]
    }
   ],
   "source": [
    "# FizzBuzz Game\n",
    "\n",
    "for number in range(1, 101):\n",
    "    if number % 3 == 0 and number % 5 == 0:\n",
    "        print(\"FizzBuzz\")\n",
    "    elif number % 3 == 0:\n",
    "        print(\"Fizz\")\n",
    "    elif number % 5 == 0:\n",
    "        print(\"Buzz\")\n",
    "    else:\n",
    "        print(number)\n"
   ]
  },
  {
   "cell_type": "code",
   "execution_count": null,
   "id": "84c5153c-6d27-4519-8929-36b709d9cc9f",
   "metadata": {},
   "outputs": [],
   "source": []
  },
  {
   "cell_type": "code",
   "execution_count": 12,
   "id": "7e84cb66-97c6-480e-8a4f-8ddcc902e8d9",
   "metadata": {},
   "outputs": [
    {
     "name": "stdout",
     "output_type": "stream",
     "text": [
      "Welcome to the pyPassword Generator!!\n"
     ]
    },
    {
     "name": "stdin",
     "output_type": "stream",
     "text": [
      "How many letters would you like in your password?\n",
      " 4\n",
      "How many numbers would you like in your password?\n",
      " 4\n",
      "How many symbols would you like in your password?\n",
      " 4\n"
     ]
    },
    {
     "name": "stdout",
     "output_type": "stream",
     "text": [
      "Your Strong password is: (QN5)!5_1g1Q\n"
     ]
    }
   ],
   "source": [
    "#### Password Generator Project ####\n",
    "import random\n",
    "\n",
    "letters = ['a', 'b', 'c', 'd', 'e', 'f', 'g', 'h', 'i', 'j', 'k', 'l', 'm', 'n', 'o', 'p', 'q', 'r', 's', 't', 'u', 'v', 'w', 'x', 'y', 'z', 'A', 'B', 'C', 'D', 'E', 'F', 'G', 'H', 'I', 'J', 'K', 'L', 'M', 'N', 'O', 'P', 'Q', 'R', 'S', 'T', 'U', 'V', 'W', 'X', 'Y', 'Z']\n",
    "numbers = ['0', '1', '2', '3', '4', '5', '6', '7', '8', '9']\n",
    "symbols = ['!', '@', '#', '$', '%', '^', '&', '*', '(', ')', '-', '_', '=', '+']\n",
    "\n",
    "print(\"Welcome to the pyPassword Generator!!\")\n",
    "nr_letters = int(input(\"How many letters would you like in your password?\\n\"))\n",
    "nr_numbers = int(input(\"How many numbers would you like in your password?\\n\"))\n",
    "nr_symbols = int(input(\"How many symbols would you like in your password?\\n\"))\n",
    "\n",
    "# # easy level\n",
    "# password = \"\"\n",
    "# for char in range(0, nr_letters):\n",
    "#     password += random.choice(letters)\n",
    "\n",
    "# for char in range(0, nr_numbers):\n",
    "#     password += random.choice(numbers)\n",
    "\n",
    "# for char in range(0, nr_symbols):\n",
    "#     password += random.choice(symbols)\n",
    "\n",
    "# print(password\n",
    "\n",
    "\n",
    "# Hard level\n",
    "password = []\n",
    "for char in range(0, nr_letters):\n",
    "    password.append(random.choice(letters))  # Add a random letter to the list\n",
    "\n",
    "for char in range(0, nr_numbers):\n",
    "    password.append(random.choice(numbers))  # Add a random numbers to the list\n",
    "\n",
    "for char in range(0, nr_symbols):\n",
    "    password.append(random.choice(symbols))  # Add a random symbols to the list\n",
    "\n",
    "\n",
    "# You can similarly add numbers or symbols to the list if required\n",
    "random.shuffle(password)  # Shuffle the password list\n",
    "\n",
    "# Convert the shuffled list into a string and print the password\n",
    "\n",
    "password_string = \"\"\n",
    "\n",
    "for char in password:\n",
    "    password_string += char\n",
    "    \n",
    "# password_str = ''.join(password)\n",
    "# print(password_str)\n",
    "\n",
    "print(f\"Your Strong password is: {password_string}\")\n",
    "\n",
    "\n",
    "\n"
   ]
  },
  {
   "cell_type": "code",
   "execution_count": null,
   "id": "305a25d9-862e-49dd-8ff9-fedd47d4b4dd",
   "metadata": {},
   "outputs": [],
   "source": []
  }
 ],
 "metadata": {
  "kernelspec": {
   "display_name": "Python 3 (ipykernel)",
   "language": "python",
   "name": "python3"
  },
  "language_info": {
   "codemirror_mode": {
    "name": "ipython",
    "version": 3
   },
   "file_extension": ".py",
   "mimetype": "text/x-python",
   "name": "python",
   "nbconvert_exporter": "python",
   "pygments_lexer": "ipython3",
   "version": "3.12.4"
  }
 },
 "nbformat": 4,
 "nbformat_minor": 5
}
