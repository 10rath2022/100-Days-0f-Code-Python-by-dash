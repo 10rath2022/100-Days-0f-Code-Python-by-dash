{
 "cells": [
  {
   "cell_type": "code",
   "execution_count": 1,
   "id": "2e62e137-95cb-42aa-8536-0d1c82dd472f",
   "metadata": {},
   "outputs": [],
   "source": [
    "# Day 15 - Local Development Environment Setup & the Coffee Machine\n",
    "#     Concepts Practised\n",
    "#         Installing Python Locally\n",
    "#     Coffee Machine"
   ]
  },
  {
   "cell_type": "code",
   "execution_count": null,
   "id": "2df7b34c-d3fd-4fb7-9f53-079480b3de5f",
   "metadata": {},
   "outputs": [
    {
     "name": "stdin",
     "output_type": "stream",
     "text": [
      "What would you like? (espresso/latte/cappuccino): latte\n"
     ]
    },
    {
     "name": "stdout",
     "output_type": "stream",
     "text": [
      "Please insert coins.\n"
     ]
    },
    {
     "name": "stdin",
     "output_type": "stream",
     "text": [
      "how many quarters?: 34\n",
      "how many dimes?: 34\n",
      "how many nickles?: 3\n",
      "how many pennies?: 433\n"
     ]
    },
    {
     "name": "stdout",
     "output_type": "stream",
     "text": [
      "Here is $105.75 dollars in change.\n",
      "Here is your latte ☕\n"
     ]
    }
   ],
   "source": [
    "MENU = {\n",
    "    \"espresso\": {\n",
    "        \"ingredients\": {\n",
    "            \"water\": 50,\n",
    "            \"coffee\": 18,\n",
    "        },\n",
    "        \"cost\": 1.5,\n",
    "    },\n",
    "    \"latte\": {\n",
    "        \"ingredients\": {\n",
    "            \"water\": 200,\n",
    "            \"milk\": 150,\n",
    "            \"coffee\": 24,\n",
    "        },\n",
    "        \"cost\": 2.5,\n",
    "    },\n",
    "    \"cappuccino\": {\n",
    "        \"ingredients\": {\n",
    "            \"water\": 250,\n",
    "            \"milk\": 100,\n",
    "            \"coffee\": 24,\n",
    "        },\n",
    "        \"cost\": 3.0,\n",
    "    }\n",
    "}\n",
    "profit = 0\n",
    "resources = {\n",
    "    \"water\": 300,\n",
    "    \"milk\": 200,\n",
    "    \"coffee\": 100,\n",
    "}\n",
    "\n",
    "def is_resource_sufficient(oder_ingredients):\n",
    "    \"\"\"Return True when order can be made, False if ingredients are insuffiencts\"\"\"\n",
    "    for item in oder_ingredients:\n",
    "        if oder_ingredients[item] >= resources[item]:\n",
    "            print(f\"Sorry there is not enough {item}.\")\n",
    "            return False\n",
    "    return True\n",
    "\n",
    "def process_coins():\n",
    "    print(\"Please insert coins.\")\n",
    "    total = int(input(\"how many quarters?:\")) * 0.25\n",
    "    total = int(input(\"how many dimes?:\")) * 0.25\n",
    "    total = int(input(\"how many nickles?:\")) * 0.25\n",
    "    total = int(input(\"how many pennies?:\")) * 0.25\n",
    "    return total\n",
    "\n",
    "def is_trasaction_succesful(money_received, drink_cost):\n",
    "    \"\"\"Retun True when the payment is accepted, or False if money is insufficient. \"\"\"\n",
    "    if money_received >= drink_cost:\n",
    "        change = round(money_received - drink_cost, 2)\n",
    "        print(f\"Here is ${change} dollars in change.\")\n",
    "        global profit\n",
    "        profit += drink_cost\n",
    "        return True\n",
    "    else:\n",
    "        print(\"Sorry that's not enough money. Money refunded.\")\n",
    "        return False\n",
    "\n",
    "# money = {\n",
    "#     \"value\": 0,\n",
    "# }\n",
    "\n",
    "def make_coffee(drink_name, order_ingredients):\n",
    "    \"\"\" deduct the required ingredients from the resources. \"\"\"\n",
    "    for item in order_ingredients:\n",
    "        resources[item] -= order_ingredients[item]\n",
    "    print(f\"Here is your {drink_name} ☕\")\n",
    "\n",
    "is_on = True\n",
    "\n",
    "while is_on:\n",
    "    choice = input(\"What would you like? (espresso/latte/cappuccino):\")\n",
    "    if choice == 'off':\n",
    "        is_on = False\n",
    "    elif choice == 'report':\n",
    "       print(f\"Water: {resources['water']}ml\")\n",
    "       print(f\"Milk: {resources['milk']}ml\")\n",
    "       print(f\"Coffee: {resources['coffee']}g\")\n",
    "       print(f\"Money: ${resources['profit']}\")\n",
    "    else:\n",
    "        drink = MENU[choice]\n",
    "        if is_resource_sufficient(drink[\"ingredients\"]):\n",
    "            payment = process_coins()\n",
    "            if is_trasaction_succesful(payment, drink['cost']):\n",
    "                make_coffee(choice, drink[\"ingredients\"])\n",
    "             "
   ]
  },
  {
   "cell_type": "code",
   "execution_count": null,
   "id": "d8139d86-8c7a-414d-96b2-303d7eb9a647",
   "metadata": {},
   "outputs": [],
   "source": []
  }
 ],
 "metadata": {
  "kernelspec": {
   "display_name": "Python 3 (ipykernel)",
   "language": "python",
   "name": "python3"
  },
  "language_info": {
   "codemirror_mode": {
    "name": "ipython",
    "version": 3
   },
   "file_extension": ".py",
   "mimetype": "text/x-python",
   "name": "python",
   "nbconvert_exporter": "python",
   "pygments_lexer": "ipython3",
   "version": "3.12.4"
  }
 },
 "nbformat": 4,
 "nbformat_minor": 5
}
