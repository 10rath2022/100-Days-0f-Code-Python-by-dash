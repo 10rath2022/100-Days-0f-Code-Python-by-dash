{
 "cells": [
  {
   "cell_type": "code",
   "execution_count": 32,
   "id": "8c4efa90-81bd-46a2-8fff-76c8c79905d7",
   "metadata": {},
   "outputs": [
    {
     "name": "stdout",
     "output_type": "stream",
     "text": [
      "Harry\n",
      "Exceeds Expectations\n",
      "Ron\n",
      "Acceptable\n",
      "Hermione\n",
      "Outstanding\n",
      "Draco\n",
      "Acceptable\n",
      "Neville\n",
      "Fail\n"
     ]
    }
   ],
   "source": [
    "# Coding Excercise 9:\n",
    "\n",
    "student_scores = {\n",
    "    'Harry': 88,\n",
    "    'Ron': 78,\n",
    "    'Hermione': 95,\n",
    "    'Draco': 75,\n",
    "    'Neville': 60\n",
    "}\n",
    "\n",
    "student_grades = {}\n",
    "\n",
    "for key in student_scores:\n",
    "    if 91 <= student_scores[key]:\n",
    "        # student_grades[grade] = student_scores[key]\n",
    "        student_grades[key] = \"Outstanding\"\n",
    "    elif 81 <= student_scores[key]:\n",
    "        student_grades[key] = \"Exceeds Expectations\"\n",
    "    elif 71 <= student_scores[key] :\n",
    "        student_grades[key] = \"Acceptable\"\n",
    "    elif student_scores[key] :\n",
    "        student_grades[key] = \"Fail\"\n",
    "        \n",
    "    print(key)\n",
    "    print(student_grades[key])\n"
   ]
  },
  {
   "cell_type": "code",
   "execution_count": null,
   "id": "4421687a-46ec-44f6-bace-6b09ac03c8ac",
   "metadata": {},
   "outputs": [],
   "source": []
  },
  {
   "cell_type": "code",
   "execution_count": null,
   "id": "de12e002-abcd-45ad-ab0d-2d1c911ad4b1",
   "metadata": {},
   "outputs": [],
   "source": []
  }
 ],
 "metadata": {
  "kernelspec": {
   "display_name": "Python 3 (ipykernel)",
   "language": "python",
   "name": "python3"
  },
  "language_info": {
   "codemirror_mode": {
    "name": "ipython",
    "version": 3
   },
   "file_extension": ".py",
   "mimetype": "text/x-python",
   "name": "python",
   "nbconvert_exporter": "python",
   "pygments_lexer": "ipython3",
   "version": "3.12.4"
  }
 },
 "nbformat": 4,
 "nbformat_minor": 5
}
