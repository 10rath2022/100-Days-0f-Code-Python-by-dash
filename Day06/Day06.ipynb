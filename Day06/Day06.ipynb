{
 "cells": [
  {
   "cell_type": "code",
   "execution_count": null,
   "id": "440c43ad-7dc0-42e3-893a-c5128285ea37",
   "metadata": {},
   "outputs": [],
   "source": [
    "#Maze Game code, Reeborg's world\n",
    "\n",
    "def turn_right():\n",
    "    turn_left()\n",
    "    turn_left()\n",
    "    turn_left()\n",
    "\n",
    "while not at_goal():\n",
    "    if right_is_clear():\n",
    "        turn_right()\n",
    "        move()\n",
    "    elif front_is_clear():\n",
    "        move()\n",
    "    else:\n",
    "        turn_left()\n",
    "\n",
    "\n",
    "# also cleared Hurdle 3 and 4\n",
    "# while loop\n",
    "\n",
    "'''\n",
    "while loop repeatedly executes a block of code as long as a specified condition remains true.\n",
    "Here's a basic structure of a while loop:\n",
    "\n",
    "while condition:\n",
    "    # Code to execute as long as condition is True\n",
    "    # Optionally modify the condition\n",
    "\n",
    "\n",
    "Example:\n",
    "# Initialize a variable\n",
    "counter = 0\n",
    "# While loop to print numbers from 0 to 4\n",
    "while counter < 5:\n",
    "    print(counter)\n",
    "    counter += 1  # Increment counter to eventually terminate the loop\n",
    "\n",
    "\n",
    "Key Points:\n",
    "    Condition: A boolean expression that determines if the loop should continue.\n",
    "    Loop Control: Ensure the loop condition will eventually become false to avoid infinite loops.\n",
    "    Modification: Update variables that affect the loop condition within the loop body to eventually terminate the loop.\n",
    "\n",
    "    '''"
   ]
  }
 ],
 "metadata": {
  "kernelspec": {
   "display_name": "Python 3 (ipykernel)",
   "language": "python",
   "name": "python3"
  },
  "language_info": {
   "codemirror_mode": {
    "name": "ipython",
    "version": 3
   },
   "file_extension": ".py",
   "mimetype": "text/x-python",
   "name": "python",
   "nbconvert_exporter": "python",
   "pygments_lexer": "ipython3",
   "version": "3.12.4"
  }
 },
 "nbformat": 4,
 "nbformat_minor": 5
}
