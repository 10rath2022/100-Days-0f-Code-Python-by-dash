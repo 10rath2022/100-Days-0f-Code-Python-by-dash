{
 "cells": [
  {
   "cell_type": "code",
   "execution_count": 1,
   "id": "1b0508a8-95f9-4113-aaba-f1cdbbdedf2e",
   "metadata": {},
   "outputs": [
    {
     "name": "stdout",
     "output_type": "stream",
     "text": [
      "You have lost!! The purple turtle is the winner!\n"
     ]
    },
    {
     "ename": "TclError",
     "evalue": "can't invoke \"destroy\" command: application has been destroyed",
     "output_type": "error",
     "traceback": [
      "\u001b[0;31m---------------------------------------------------------------------------\u001b[0m",
      "\u001b[0;31mTclError\u001b[0m                                  Traceback (most recent call last)",
      "Cell \u001b[0;32mIn[1], line 39\u001b[0m\n\u001b[1;32m     36\u001b[0m         turtle\u001b[38;5;241m.\u001b[39mforward(rand_distance)\n\u001b[1;32m     38\u001b[0m screen\u001b[38;5;241m.\u001b[39mexitonclick()\n\u001b[0;32m---> 39\u001b[0m \u001b[43mscreen\u001b[49m\u001b[38;5;241;43m.\u001b[39;49m\u001b[43mbye\u001b[49m\u001b[43m(\u001b[49m\u001b[43m)\u001b[49m\n",
      "File \u001b[0;32m/Library/Frameworks/Python.framework/Versions/3.12/lib/python3.12/turtle.py:3829\u001b[0m, in \u001b[0;36m_Screen.bye\u001b[0;34m(self)\u001b[0m\n\u001b[1;32m   3823\u001b[0m \u001b[38;5;28;01mdef\u001b[39;00m \u001b[38;5;21mbye\u001b[39m(\u001b[38;5;28mself\u001b[39m):\n\u001b[1;32m   3824\u001b[0m \u001b[38;5;250m    \u001b[39m\u001b[38;5;124;03m\"\"\"Shut the turtlegraphics window.\u001b[39;00m\n\u001b[1;32m   3825\u001b[0m \n\u001b[1;32m   3826\u001b[0m \u001b[38;5;124;03m    Example (for a TurtleScreen instance named screen):\u001b[39;00m\n\u001b[1;32m   3827\u001b[0m \u001b[38;5;124;03m    >>> screen.bye()\u001b[39;00m\n\u001b[1;32m   3828\u001b[0m \u001b[38;5;124;03m    \"\"\"\u001b[39;00m\n\u001b[0;32m-> 3829\u001b[0m     \u001b[38;5;28;43mself\u001b[39;49m\u001b[38;5;241;43m.\u001b[39;49m\u001b[43m_destroy\u001b[49m\u001b[43m(\u001b[49m\u001b[43m)\u001b[49m\n",
      "File \u001b[0;32m/Library/Frameworks/Python.framework/Versions/3.12/lib/python3.12/turtle.py:3821\u001b[0m, in \u001b[0;36m_Screen._destroy\u001b[0;34m(self)\u001b[0m\n\u001b[1;32m   3819\u001b[0m     _Screen\u001b[38;5;241m.\u001b[39m_canvas \u001b[38;5;241m=\u001b[39m \u001b[38;5;28;01mNone\u001b[39;00m\n\u001b[1;32m   3820\u001b[0m TurtleScreen\u001b[38;5;241m.\u001b[39m_RUNNING \u001b[38;5;241m=\u001b[39m \u001b[38;5;28;01mFalse\u001b[39;00m\n\u001b[0;32m-> 3821\u001b[0m \u001b[43mroot\u001b[49m\u001b[38;5;241;43m.\u001b[39;49m\u001b[43mdestroy\u001b[49m\u001b[43m(\u001b[49m\u001b[43m)\u001b[49m\n",
      "File \u001b[0;32m/Library/Frameworks/Python.framework/Versions/3.12/lib/python3.12/tkinter/__init__.py:2390\u001b[0m, in \u001b[0;36mTk.destroy\u001b[0;34m(self)\u001b[0m\n\u001b[1;32m   2387\u001b[0m \u001b[38;5;250m\u001b[39m\u001b[38;5;124;03m\"\"\"Destroy this and all descendants widgets. This will\u001b[39;00m\n\u001b[1;32m   2388\u001b[0m \u001b[38;5;124;03mend the application of this Tcl interpreter.\"\"\"\u001b[39;00m\n\u001b[1;32m   2389\u001b[0m \u001b[38;5;28;01mfor\u001b[39;00m c \u001b[38;5;129;01min\u001b[39;00m \u001b[38;5;28mlist\u001b[39m(\u001b[38;5;28mself\u001b[39m\u001b[38;5;241m.\u001b[39mchildren\u001b[38;5;241m.\u001b[39mvalues()): c\u001b[38;5;241m.\u001b[39mdestroy()\n\u001b[0;32m-> 2390\u001b[0m \u001b[38;5;28;43mself\u001b[39;49m\u001b[38;5;241;43m.\u001b[39;49m\u001b[43mtk\u001b[49m\u001b[38;5;241;43m.\u001b[39;49m\u001b[43mcall\u001b[49m\u001b[43m(\u001b[49m\u001b[38;5;124;43m'\u001b[39;49m\u001b[38;5;124;43mdestroy\u001b[39;49m\u001b[38;5;124;43m'\u001b[39;49m\u001b[43m,\u001b[49m\u001b[43m \u001b[49m\u001b[38;5;28;43mself\u001b[39;49m\u001b[38;5;241;43m.\u001b[39;49m\u001b[43m_w\u001b[49m\u001b[43m)\u001b[49m\n\u001b[1;32m   2391\u001b[0m Misc\u001b[38;5;241m.\u001b[39mdestroy(\u001b[38;5;28mself\u001b[39m)\n\u001b[1;32m   2392\u001b[0m \u001b[38;5;28;01mglobal\u001b[39;00m _default_root\n",
      "\u001b[0;31mTclError\u001b[0m: can't invoke \"destroy\" command: application has been destroyed"
     ]
    }
   ],
   "source": [
    "from turtle import Turtle, Screen\n",
    "import random\n",
    "\n",
    "is_race_on = False\n",
    "screen = Screen()\n",
    "screen.setup(width=500, height = 400)\n",
    "\n",
    "\n",
    "user_bet = screen.textinput(title=\"Make your bet\", prompt=\"Which turtle will win the race? Enter a color: \")\n",
    "colors = [\"red\", \"orange\", \"yellow\", \"green\", \"blue\", \"purple\"]\n",
    "y_positions = [-70, -40, -10, 20, 50, 80]\n",
    "all_turtles = []\n",
    "\n",
    "for turtle_index in range(0, 6):\n",
    "    new_turtle = Turtle(shape=\"turtle\")\n",
    "    new_turtle.color(colors[turtle_index])\n",
    "    new_turtle.penup()\n",
    "    new_turtle.goto(x=-230, y=y_positions[turtle_index])\n",
    "    all_turtles.append(new_turtle)\n",
    "\n",
    "if user_bet:\n",
    "    is_race_on = True\n",
    "\n",
    "while is_race_on:\n",
    "\n",
    "    for turtle in all_turtles:\n",
    "        if turtle.xcor() >230:\n",
    "            is_race_on = False\n",
    "            winning_color = turtle.pencolor()\n",
    "            if winning_color == user_bet:\n",
    "                print(f\"You have won!! The {winning_color} turtle is winner!\")\n",
    "            else:\n",
    "                print(f\"You have lost!! The {winning_color} turtle is the winner!\")\n",
    "            \n",
    "        rand_distance = random.randint(0,10)\n",
    "        turtle.forward(rand_distance)\n",
    "    \n",
    "screen.exitonclick()\n",
    "screen.bye()\n"
   ]
  },
  {
   "cell_type": "code",
   "execution_count": null,
   "id": "2a89ef01-d275-4ff4-9597-af39377881b0",
   "metadata": {},
   "outputs": [],
   "source": []
  },
  {
   "cell_type": "code",
   "execution_count": null,
   "id": "c7d1a808-cd34-48d4-b13d-2d473c4966c9",
   "metadata": {},
   "outputs": [],
   "source": []
  }
 ],
 "metadata": {
  "kernelspec": {
   "display_name": "Python 3 (ipykernel)",
   "language": "python",
   "name": "python3"
  },
  "language_info": {
   "codemirror_mode": {
    "name": "ipython",
    "version": 3
   },
   "file_extension": ".py",
   "mimetype": "text/x-python",
   "name": "python",
   "nbconvert_exporter": "python",
   "pygments_lexer": "ipython3",
   "version": "3.12.4"
  }
 },
 "nbformat": 4,
 "nbformat_minor": 5
}
