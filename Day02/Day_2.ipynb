{
 "cells": [
  {
   "cell_type": "code",
   "execution_count": 1,
   "id": "fe9c42fa-6eca-4d19-b721-5f10f8a38676",
   "metadata": {},
   "outputs": [],
   "source": [
    "# Day_2 \n",
    "# Data Types, Numbers, Operations, Type Conversion, f-Strings"
   ]
  },
  {
   "cell_type": "code",
   "execution_count": 3,
   "id": "9898a7a0-0e38-4ae9-8edf-db26935ea6b2",
   "metadata": {},
   "outputs": [
    {
     "name": "stdout",
     "output_type": "stream",
     "text": [
      "H\n",
      "123345\n",
      "468\n",
      "123345789\n",
      "3.1415\n",
      "True\n"
     ]
    }
   ],
   "source": [
    "# Learn about the primitive data types in Python.\n",
    "# 1. Strings\n",
    "# 2. Integer\n",
    "# 3. floats\n",
    "# 4. Booleans\n",
    "\n",
    "#Subscripting\n",
    "print(\"Hello\"[0])\n",
    "\n",
    "#String\n",
    "print(\"123\" + \"345\")\n",
    "\n",
    "#Integer = Whole Number\n",
    "print(123 + 345)\n",
    "\n",
    "#Large Integers\n",
    "print(123_345_789)\n",
    "\n",
    "# floating point number\n",
    "print(3.1415)\n",
    "\n",
    "#Booleans\n",
    "print(True) \n"
   ]
  },
  {
   "cell_type": "code",
   "execution_count": 4,
   "id": "64a93c08-d8b0-4c33-92d6-b93bb64bc419",
   "metadata": {},
   "outputs": [],
   "source": [
    "  #Type Error, Checking and Conversion"
   ]
  },
  {
   "cell_type": "code",
   "execution_count": 9,
   "id": "06149830-0eb7-4aab-b949-c2367073e235",
   "metadata": {},
   "outputs": [
    {
     "data": {
      "text/plain": [
       "5"
      ]
     },
     "execution_count": 9,
     "metadata": {},
     "output_type": "execute_result"
    }
   ],
   "source": [
    "# len(123) #TypeError  \n",
    "len(\"Hello\")"
   ]
  },
  {
   "cell_type": "code",
   "execution_count": 12,
   "id": "f10f1187-a3f3-4359-80b6-3044b6b00f6a",
   "metadata": {},
   "outputs": [
    {
     "name": "stdout",
     "output_type": "stream",
     "text": [
      "<class 'str'>\n",
      "<class 'bool'>\n",
      "<class 'int'>\n",
      "<class 'float'>\n"
     ]
    }
   ],
   "source": [
    "#Type checking\n",
    "print(type(\"Hellooo\"))\n",
    "print(type(True))\n",
    "print(type(123))\n",
    "print(type(3.14))"
   ]
  },
  {
   "cell_type": "code",
   "execution_count": null,
   "id": "696ee6b0-d5d0-4887-b571-1869f622dd39",
   "metadata": {},
   "outputs": [],
   "source": []
  },
  {
   "cell_type": "code",
   "execution_count": 15,
   "id": "f127fd73-18f9-4feb-98d2-fae78a61b28c",
   "metadata": {},
   "outputs": [
    {
     "name": "stdout",
     "output_type": "stream",
     "text": [
      "246.0\n"
     ]
    }
   ],
   "source": [
    "# Conversion\n",
    "print(int(123) + float(123))"
   ]
  },
  {
   "cell_type": "code",
   "execution_count": null,
   "id": "109a6459-63b0-4680-b6ca-216e04002581",
   "metadata": {},
   "outputs": [],
   "source": []
  },
  {
   "cell_type": "code",
   "execution_count": 24,
   "id": "cd59a170-7f05-4aa1-af47-e506b130dba9",
   "metadata": {},
   "outputs": [
    {
     "name": "stdin",
     "output_type": "stream",
     "text": [
      "Enter your name dash\n"
     ]
    },
    {
     "name": "stdout",
     "output_type": "stream",
     "text": [
      "Numer of letters in your name: 4\n"
     ]
    }
   ],
   "source": [
    "#Pause3. Make this line of code run without errors\n",
    "name = len(input(\"Enter your name\"))\n",
    "print(\"Numer of letters in your name: \" + str(name))"
   ]
  },
  {
   "cell_type": "code",
   "execution_count": 25,
   "id": "d72a0c3b-f52b-4ca9-a745-3099aeaa6f7e",
   "metadata": {},
   "outputs": [],
   "source": [
    "#mathematical operations"
   ]
  },
  {
   "cell_type": "code",
   "execution_count": 29,
   "id": "24843ff8-1c9d-4669-aed7-3b7856c5dec0",
   "metadata": {},
   "outputs": [
    {
     "name": "stdout",
     "output_type": "stream",
     "text": [
      "3.0\n"
     ]
    }
   ],
   "source": [
    "# PAUSE 2: Change the code so it outputs 3?\n",
    "\n",
    "# print(3*3 + 3/3-3)\n",
    "\n",
    "print(3*(3 + 3)/3-3)"
   ]
  },
  {
   "cell_type": "code",
   "execution_count": 33,
   "id": "ed2bc728-4016-4f01-bb41-b2ab44190359",
   "metadata": {},
   "outputs": [
    {
     "name": "stdout",
     "output_type": "stream",
     "text": [
      "1.93\n"
     ]
    }
   ],
   "source": [
    "# bmi cal\n",
    "\n",
    "weight = 65\n",
    "height = 5.8\n",
    "\n",
    "\n",
    "bmi = weight/height**2\n",
    "\n",
    "print(round(bmi, 2))\n",
    "\n",
    "\n"
   ]
  },
  {
   "cell_type": "code",
   "execution_count": 39,
   "id": "611dce44-9a1a-4e7d-a61f-9865544c95cb",
   "metadata": {},
   "outputs": [
    {
     "name": "stdout",
     "output_type": "stream",
     "text": [
      "Your score is = 0, your height is 1.8, You are wining is True\n"
     ]
    }
   ],
   "source": [
    "# f-strings\n",
    "score = 0\n",
    "height = 1.8\n",
    "is_wining = True\n",
    "\n",
    "\n",
    "print(f\"Your score is = {score}, your height is {height}, You are wining is {is_wining}\")"
   ]
  },
  {
   "cell_type": "code",
   "execution_count": null,
   "id": "309f74f8-e004-4965-afc8-7f91365e5a34",
   "metadata": {},
   "outputs": [],
   "source": []
  },
  {
   "cell_type": "code",
   "execution_count": null,
   "id": "5c7ff4ea-87eb-4b97-b8e9-aaabbf650cf2",
   "metadata": {},
   "outputs": [
    {
     "name": "stdout",
     "output_type": "stream",
     "text": [
      "Welcome to the tip calculator!\n"
     ]
    }
   ],
   "source": [
    "# Tip Calculator Project\n",
    "\n",
    "print(\"Welcome to the tip calculator!\")\n",
    "\n",
    "total_bill = float(input(\"What was the total bill? ₹ \"))\n",
    "tip = float(input(\"How much tip would you like to give? 10, 12, or 15? \"))\n",
    "\n",
    "split = int(input(\"How many people to split the bill?\"))\n",
    "\n",
    "# c = tip/100\n",
    "\n",
    "total_with_tip = (total_bill * (tip/100)) + total_bill\n",
    "\n",
    "amount_per_person = round(total_with_tip/split,2)\n",
    "\n",
    "print(f\"Each person should pay: ₹{amount_per_person}\")"
   ]
  },
  {
   "cell_type": "code",
   "execution_count": null,
   "id": "7bffe84f-6914-466b-8bb9-222ec37c8f7e",
   "metadata": {},
   "outputs": [],
   "source": []
  },
  {
   "cell_type": "code",
   "execution_count": null,
   "id": "0849f6e9-6fa4-48e9-9dae-04d4ae4e6377",
   "metadata": {},
   "outputs": [],
   "source": []
  },
  {
   "cell_type": "code",
   "execution_count": null,
   "id": "b55b790b-70ff-447f-b82a-df9857f5740c",
   "metadata": {},
   "outputs": [],
   "source": []
  },
  {
   "cell_type": "code",
   "execution_count": null,
   "id": "62fa6229-5ef0-497b-a8f1-72e8c157b336",
   "metadata": {},
   "outputs": [],
   "source": []
  },
  {
   "cell_type": "code",
   "execution_count": null,
   "id": "7f1b48bd-dcf7-46f9-85e2-7b46b9f75809",
   "metadata": {},
   "outputs": [],
   "source": []
  },
  {
   "cell_type": "code",
   "execution_count": null,
   "id": "2b83cd2e-8947-4717-98a8-9f69f5d04325",
   "metadata": {},
   "outputs": [],
   "source": []
  },
  {
   "cell_type": "code",
   "execution_count": null,
   "id": "5b89f397-e4f4-43e1-9f91-2db6676d297d",
   "metadata": {},
   "outputs": [],
   "source": []
  },
  {
   "cell_type": "code",
   "execution_count": null,
   "id": "c02cafd1-e01d-4428-8aaa-d67ad94a0822",
   "metadata": {},
   "outputs": [],
   "source": []
  },
  {
   "cell_type": "code",
   "execution_count": null,
   "id": "3be3a6e1-28c4-4b0f-b397-5af6e302693d",
   "metadata": {},
   "outputs": [],
   "source": []
  },
  {
   "cell_type": "code",
   "execution_count": null,
   "id": "7168b58a-e4b4-45d1-8b25-7365efc4b626",
   "metadata": {},
   "outputs": [],
   "source": []
  },
  {
   "cell_type": "code",
   "execution_count": null,
   "id": "cb03aaf8-b345-4a78-a975-229ab193fdcf",
   "metadata": {},
   "outputs": [],
   "source": []
  },
  {
   "cell_type": "code",
   "execution_count": null,
   "id": "835827c3-3916-4d9a-8f8d-ffc3138bf307",
   "metadata": {},
   "outputs": [],
   "source": []
  },
  {
   "cell_type": "code",
   "execution_count": null,
   "id": "d6c07134-a672-44a8-b9d7-3c99c54ef673",
   "metadata": {},
   "outputs": [],
   "source": []
  },
  {
   "cell_type": "code",
   "execution_count": null,
   "id": "4c23f180-7568-4e59-aef3-a0c5218a79b0",
   "metadata": {},
   "outputs": [],
   "source": []
  },
  {
   "cell_type": "code",
   "execution_count": null,
   "id": "1c5d59dd-7fec-4546-b144-fd5351ee47cf",
   "metadata": {},
   "outputs": [],
   "source": []
  }
 ],
 "metadata": {
  "kernelspec": {
   "display_name": "Python 3 (ipykernel)",
   "language": "python",
   "name": "python3"
  },
  "language_info": {
   "codemirror_mode": {
    "name": "ipython",
    "version": 3
   },
   "file_extension": ".py",
   "mimetype": "text/x-python",
   "name": "python",
   "nbconvert_exporter": "python",
   "pygments_lexer": "ipython3",
   "version": "3.12.4"
  }
 },
 "nbformat": 4,
 "nbformat_minor": 5
}
