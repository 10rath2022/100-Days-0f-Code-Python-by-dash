{
 "cells": [
  {
   "cell_type": "markdown",
   "id": "154d7f85-2c3d-4003-b904-f3f90aaf319c",
   "metadata": {},
   "source": [
    "### Day_01"
   ]
  },
  {
   "cell_type": "code",
   "execution_count": 1,
   "id": "89c02387-eee7-45e1-b011-3ed2653bd528",
   "metadata": {},
   "outputs": [
    {
     "name": "stdout",
     "output_type": "stream",
     "text": [
      "Hello World!\n"
     ]
    }
   ],
   "source": [
    "#### Write your code below this line👇\n",
    "\n",
    "print(\"Hello World!\")"
   ]
  },
  {
   "cell_type": "code",
   "execution_count": null,
   "id": "5d4f5c3a-c232-4969-bd59-46d459a9b041",
   "metadata": {},
   "outputs": [],
   "source": []
  },
  {
   "cell_type": "code",
   "execution_count": 5,
   "id": "210b881f-4166-4e10-8de5-06c9b613a401",
   "metadata": {},
   "outputs": [
    {
     "name": "stdout",
     "output_type": "stream",
     "text": [
      "1. Mix 500g of Flour, 10g Yeast and 300ml Water in a bowl.\n",
      "2. Knead the dough for 10 minutes.\n",
      "3. Add 3g of Salt.\n",
      "4. Leave to rise for 2 hours.\n",
      "5. Bake at 200 degrees C for 30 minutes.\n"
     ]
    }
   ],
   "source": [
    "print(\"1. Mix 500g of Flour, 10g Yeast and 300ml Water in a bowl.\")\n",
    "print(\"2. Knead the dough for 10 minutes.\")\n",
    "print(\"3. Add 3g of Salt.\")\n",
    "print(\"4. Leave to rise for 2 hours.\")\n",
    "print(\"5. Bake at 200 degrees C for 30 minutes.\")"
   ]
  },
  {
   "cell_type": "code",
   "execution_count": null,
   "id": "347ce41b-f9d7-42c3-ab91-366f1da79a36",
   "metadata": {},
   "outputs": [],
   "source": []
  },
  {
   "cell_type": "code",
   "execution_count": 6,
   "id": "087a6a6b-5fb9-4328-a0a1-e96bf321a8e0",
   "metadata": {},
   "outputs": [
    {
     "name": "stdout",
     "output_type": "stream",
     "text": [
      "1. Mix 500g of Flour, 10g Yeast and 300ml Water in a bowl.\n",
      "2. Knead the dough for 10 minutes.\n",
      "3. Add 3g of Salt.\n",
      "4. Leave to rise for 2 hours.\n",
      "5. Bake at 200 degrees C for 30 minutes.\n"
     ]
    }
   ],
   "source": [
    "print(\"1. Mix 500g of Flour, 10g Yeast and 300ml Water in a bowl.\\n2. Knead the dough for 10 minutes.\\n3. Add 3g of Salt.\\n4. Leave to rise for 2 hours.\\n5. Bake at 200 degrees C for 30 minutes.\")"
   ]
  },
  {
   "cell_type": "code",
   "execution_count": null,
   "id": "ea39b3ae-fd72-4391-bdd7-f0fd62c1aa80",
   "metadata": {},
   "outputs": [],
   "source": []
  },
  {
   "cell_type": "code",
   "execution_count": 22,
   "id": "8ce9feb6-59fb-4cf4-9a31-cccc79d0d158",
   "metadata": {},
   "outputs": [
    {
     "name": "stdout",
     "output_type": "stream",
     "text": [
      "Notes from Day 1\n",
      "The print statement is used to output strings\n",
      "Strings are strings of characters\n",
      "String Concatenation is done with the + sign\n",
      "New lines can be created with a \\ and the letter n\n"
     ]
    }
   ],
   "source": [
    "print(\"Notes from Day 1\")\n",
    "print(\"The print statement is used to output strings\")\n",
    "print(\"Strings are strings of characters\")\n",
    "print(\"String Concatenation is done with the + sign\")\n",
    "print((\"New lines can be created with a \\\\ and the letter n\"))\n"
   ]
  },
  {
   "cell_type": "code",
   "execution_count": null,
   "id": "aafc7ac3-cb9f-4c86-9efa-b6d96f03ca0e",
   "metadata": {},
   "outputs": [],
   "source": []
  },
  {
   "cell_type": "code",
   "execution_count": 23,
   "id": "79dd7e65-40e0-4725-a0e6-af7318cbf407",
   "metadata": {},
   "outputs": [
    {
     "name": "stdin",
     "output_type": "stream",
     "text": [
      "What is your name? Dashrath\n"
     ]
    },
    {
     "data": {
      "text/plain": [
       "'Dashrath'"
      ]
     },
     "execution_count": 23,
     "metadata": {},
     "output_type": "execute_result"
    }
   ],
   "source": [
    "input(\"What is your name?\")"
   ]
  },
  {
   "cell_type": "code",
   "execution_count": 25,
   "id": "5ad66502-6df2-4a98-8fe5-44717768c40e",
   "metadata": {},
   "outputs": [
    {
     "name": "stdin",
     "output_type": "stream",
     "text": [
      "What is your name? Dashrath\n"
     ]
    },
    {
     "name": "stdout",
     "output_type": "stream",
     "text": [
      "Hello Dashrath!\n"
     ]
    }
   ],
   "source": [
    "print(\"Hello \" + input(\"What is your name?\") + \"!\")"
   ]
  },
  {
   "cell_type": "code",
   "execution_count": 28,
   "id": "e629ae5a-78e3-4779-a902-e5739ad1e46d",
   "metadata": {},
   "outputs": [
    {
     "name": "stdin",
     "output_type": "stream",
     "text": [
      "What is your name? Dashrath\n"
     ]
    }
   ],
   "source": [
    "#Variable\n",
    "name = input(\"What is your name?\")"
   ]
  },
  {
   "cell_type": "code",
   "execution_count": 29,
   "id": "bcd88e3a-d58a-4cfc-ae08-d0ea18b68575",
   "metadata": {},
   "outputs": [
    {
     "data": {
      "text/plain": [
       "'Dashrath'"
      ]
     },
     "execution_count": 29,
     "metadata": {},
     "output_type": "execute_result"
    }
   ],
   "source": [
    "name"
   ]
  },
  {
   "cell_type": "code",
   "execution_count": 32,
   "id": "0de38082-4274-484a-9197-166fe68b4375",
   "metadata": {},
   "outputs": [
    {
     "name": "stdin",
     "output_type": "stream",
     "text": [
      "What is your name? Dashrath\n"
     ]
    },
    {
     "name": "stdout",
     "output_type": "stream",
     "text": [
      "8\n"
     ]
    }
   ],
   "source": [
    "#len() \n",
    "print(len(input(\"What is your name?\")))\n"
   ]
  },
  {
   "cell_type": "code",
   "execution_count": 34,
   "id": "a4237918-ae65-4ac3-93fd-0d791e84237d",
   "metadata": {},
   "outputs": [
    {
     "name": "stdin",
     "output_type": "stream",
     "text": [
      "What is your name? Dashrath\n"
     ]
    },
    {
     "name": "stdout",
     "output_type": "stream",
     "text": [
      "8\n"
     ]
    }
   ],
   "source": [
    "username = input(\"What is your name?\")\n",
    "length = len(username)\n",
    "print(length)"
   ]
  },
  {
   "cell_type": "code",
   "execution_count": null,
   "id": "5bc6ba91-17a4-4264-87e0-0ad0fb9e3b27",
   "metadata": {},
   "outputs": [],
   "source": []
  },
  {
   "cell_type": "code",
   "execution_count": 35,
   "id": "3606cc07-b9e5-479f-a11b-fa46e580620d",
   "metadata": {},
   "outputs": [],
   "source": [
    "glass1 = \"milk\"\n",
    "glass2 = \"juice\"\n",
    " \n",
    "temp = glass1\n",
    "glass1 = glass2\n",
    "glass2 = temp\n",
    "\n",
    "# If we have two physical glasses and we wanted to switch out the contents. We would need to grab an extra glass! So the solution is to create a temporary variable to store the contents from one glass.\n",
    "\n",
    "\n",
    "# temp = glass1\n",
    "# By storing the contents of glass1 in the temp variable. We can now use the glass1 variable to store the contents of glass2\n",
    "\n",
    "# glass1 = glass2\n",
    "# Finally, we can put the contents in the temp variable into glass2.\n",
    "\n",
    "# glass2 = temp\n",
    "\n",
    "\n",
    "# Try it out with some physical glass cups!"
   ]
  },
  {
   "cell_type": "code",
   "execution_count": null,
   "id": "4c50e465-74b0-406c-95d2-8e9faf338b4f",
   "metadata": {},
   "outputs": [],
   "source": [
    "# mini project to create band name"
   ]
  },
  {
   "cell_type": "code",
   "execution_count": 38,
   "id": "45d69bde-a328-4397-9fda-474f6001add7",
   "metadata": {},
   "outputs": [
    {
     "name": "stdout",
     "output_type": "stream",
     "text": [
      "Welcome to the Band Name Generator.\n"
     ]
    },
    {
     "name": "stdin",
     "output_type": "stream",
     "text": [
      "What's the name of the city you grew up in?\n",
      " Lonar\n"
     ]
    },
    {
     "name": "stdout",
     "output_type": "stream",
     "text": [
      "Lonar\n"
     ]
    },
    {
     "name": "stdin",
     "output_type": "stream",
     "text": [
      "What's your pet's name?\n",
      " Nopets\n"
     ]
    },
    {
     "name": "stdout",
     "output_type": "stream",
     "text": [
      "Nopets\n",
      "Your band name could be Lonar Nopets\n"
     ]
    }
   ],
   "source": [
    "print(\"Welcome to the Band Name Generator.\")\n",
    "city_name = input(\"What's the name of the city you grew up in?\\n\")\n",
    "print(city_name)\n",
    "pets_name = input(\"What's your pet's name?\\n\")\n",
    "print(pets_name)\n",
    "print(\"Your band name could be \" + city_name + \" \" + pets_name)"
   ]
  },
  {
   "cell_type": "code",
   "execution_count": null,
   "id": "d9bc0ccb-21e2-49b7-9154-23951429d550",
   "metadata": {},
   "outputs": [],
   "source": []
  }
 ],
 "metadata": {
  "kernelspec": {
   "display_name": "Python 3 (ipykernel)",
   "language": "python",
   "name": "python3"
  },
  "language_info": {
   "codemirror_mode": {
    "name": "ipython",
    "version": 3
   },
   "file_extension": ".py",
   "mimetype": "text/x-python",
   "name": "python",
   "nbconvert_exporter": "python",
   "pygments_lexer": "ipython3",
   "version": "3.12.4"
  }
 },
 "nbformat": 4,
 "nbformat_minor": 5
}
