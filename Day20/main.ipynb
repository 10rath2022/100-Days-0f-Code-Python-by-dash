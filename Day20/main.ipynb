{
 "cells": [
  {
   "cell_type": "code",
   "execution_count": 2,
   "id": "8dbb48f9-4cd6-4226-b855-ea867c536a50",
   "metadata": {},
   "outputs": [
    {
     "ename": "TclError",
     "evalue": "invalid command name \".!canvas\"",
     "output_type": "error",
     "traceback": [
      "\u001b[0;31m---------------------------------------------------------------------------\u001b[0m",
      "\u001b[0;31mTclError\u001b[0m                                  Traceback (most recent call last)",
      "Cell \u001b[0;32mIn[2], line 29\u001b[0m\n\u001b[1;32m     27\u001b[0m         new_x \u001b[38;5;241m=\u001b[39m segments[seg_num \u001b[38;5;241m-\u001b[39m \u001b[38;5;241m1\u001b[39m]\u001b[38;5;241m.\u001b[39mxcor()\n\u001b[1;32m     28\u001b[0m         new_y \u001b[38;5;241m=\u001b[39m segments[seg_num \u001b[38;5;241m-\u001b[39m \u001b[38;5;241m1\u001b[39m]\u001b[38;5;241m.\u001b[39mycor()\n\u001b[0;32m---> 29\u001b[0m         \u001b[43msegments\u001b[49m\u001b[43m[\u001b[49m\u001b[43mseg_num\u001b[49m\u001b[43m]\u001b[49m\u001b[38;5;241;43m.\u001b[39;49m\u001b[43mgoto\u001b[49m\u001b[43m(\u001b[49m\u001b[43mnew_x\u001b[49m\u001b[43m,\u001b[49m\u001b[43m \u001b[49m\u001b[43mnew_y\u001b[49m\u001b[43m)\u001b[49m\n\u001b[1;32m     30\u001b[0m     segments[\u001b[38;5;241m0\u001b[39m]\u001b[38;5;241m.\u001b[39mforward(\u001b[38;5;241m20\u001b[39m)\n\u001b[1;32m     32\u001b[0m screen\u001b[38;5;241m.\u001b[39mexitonclick()\n",
      "File \u001b[0;32m/Library/Frameworks/Python.framework/Versions/3.12/lib/python3.12/turtle.py:1775\u001b[0m, in \u001b[0;36mTNavigator.goto\u001b[0;34m(self, x, y)\u001b[0m\n\u001b[1;32m   1773\u001b[0m     \u001b[38;5;28mself\u001b[39m\u001b[38;5;241m.\u001b[39m_goto(Vec2D(\u001b[38;5;241m*\u001b[39mx))\n\u001b[1;32m   1774\u001b[0m \u001b[38;5;28;01melse\u001b[39;00m:\n\u001b[0;32m-> 1775\u001b[0m     \u001b[38;5;28;43mself\u001b[39;49m\u001b[38;5;241;43m.\u001b[39;49m\u001b[43m_goto\u001b[49m\u001b[43m(\u001b[49m\u001b[43mVec2D\u001b[49m\u001b[43m(\u001b[49m\u001b[43mx\u001b[49m\u001b[43m,\u001b[49m\u001b[43m \u001b[49m\u001b[43my\u001b[49m\u001b[43m)\u001b[49m\u001b[43m)\u001b[49m\n",
      "File \u001b[0;32m/Library/Frameworks/Python.framework/Versions/3.12/lib/python3.12/turtle.py:3230\u001b[0m, in \u001b[0;36mRawTurtle._goto\u001b[0;34m(self, end)\u001b[0m\n\u001b[1;32m   3222\u001b[0m go_modes \u001b[38;5;241m=\u001b[39m ( \u001b[38;5;28mself\u001b[39m\u001b[38;5;241m.\u001b[39m_drawing,\n\u001b[1;32m   3223\u001b[0m              \u001b[38;5;28mself\u001b[39m\u001b[38;5;241m.\u001b[39m_pencolor,\n\u001b[1;32m   3224\u001b[0m              \u001b[38;5;28mself\u001b[39m\u001b[38;5;241m.\u001b[39m_pensize,\n\u001b[1;32m   3225\u001b[0m              \u001b[38;5;28misinstance\u001b[39m(\u001b[38;5;28mself\u001b[39m\u001b[38;5;241m.\u001b[39m_fillpath, \u001b[38;5;28mlist\u001b[39m))\n\u001b[1;32m   3226\u001b[0m screen \u001b[38;5;241m=\u001b[39m \u001b[38;5;28mself\u001b[39m\u001b[38;5;241m.\u001b[39mscreen\n\u001b[1;32m   3227\u001b[0m undo_entry \u001b[38;5;241m=\u001b[39m (\u001b[38;5;124m\"\u001b[39m\u001b[38;5;124mgo\u001b[39m\u001b[38;5;124m\"\u001b[39m, \u001b[38;5;28mself\u001b[39m\u001b[38;5;241m.\u001b[39m_position, end, go_modes,\n\u001b[1;32m   3228\u001b[0m               (\u001b[38;5;28mself\u001b[39m\u001b[38;5;241m.\u001b[39mcurrentLineItem,\n\u001b[1;32m   3229\u001b[0m               \u001b[38;5;28mself\u001b[39m\u001b[38;5;241m.\u001b[39mcurrentLine[:],\n\u001b[0;32m-> 3230\u001b[0m               \u001b[43mscreen\u001b[49m\u001b[38;5;241;43m.\u001b[39;49m\u001b[43m_pointlist\u001b[49m\u001b[43m(\u001b[49m\u001b[38;5;28;43mself\u001b[39;49m\u001b[38;5;241;43m.\u001b[39;49m\u001b[43mcurrentLineItem\u001b[49m\u001b[43m)\u001b[49m,\n\u001b[1;32m   3231\u001b[0m               \u001b[38;5;28mself\u001b[39m\u001b[38;5;241m.\u001b[39mitems[:])\n\u001b[1;32m   3232\u001b[0m               )\n\u001b[1;32m   3233\u001b[0m \u001b[38;5;28;01mif\u001b[39;00m \u001b[38;5;28mself\u001b[39m\u001b[38;5;241m.\u001b[39mundobuffer:\n\u001b[1;32m   3234\u001b[0m     \u001b[38;5;28mself\u001b[39m\u001b[38;5;241m.\u001b[39mundobuffer\u001b[38;5;241m.\u001b[39mpush(undo_entry)\n",
      "File \u001b[0;32m/Library/Frameworks/Python.framework/Versions/3.12/lib/python3.12/turtle.py:745\u001b[0m, in \u001b[0;36mTurtleScreenBase._pointlist\u001b[0;34m(self, item)\u001b[0m\n\u001b[1;32m    737\u001b[0m \u001b[38;5;28;01mdef\u001b[39;00m \u001b[38;5;21m_pointlist\u001b[39m(\u001b[38;5;28mself\u001b[39m, item):\n\u001b[1;32m    738\u001b[0m \u001b[38;5;250m    \u001b[39m\u001b[38;5;124;03m\"\"\"returns list of coordinate-pairs of points of item\u001b[39;00m\n\u001b[1;32m    739\u001b[0m \u001b[38;5;124;03m    Example (for insiders):\u001b[39;00m\n\u001b[1;32m    740\u001b[0m \u001b[38;5;124;03m    >>> from turtle import *\u001b[39;00m\n\u001b[0;32m   (...)\u001b[0m\n\u001b[1;32m    743\u001b[0m \u001b[38;5;124;03m    (9.9999999999999982, 0.0)]\u001b[39;00m\n\u001b[1;32m    744\u001b[0m \u001b[38;5;124;03m    >>> \"\"\"\u001b[39;00m\n\u001b[0;32m--> 745\u001b[0m     cl \u001b[38;5;241m=\u001b[39m \u001b[38;5;28;43mself\u001b[39;49m\u001b[38;5;241;43m.\u001b[39;49m\u001b[43mcv\u001b[49m\u001b[38;5;241;43m.\u001b[39;49m\u001b[43mcoords\u001b[49m\u001b[43m(\u001b[49m\u001b[43mitem\u001b[49m\u001b[43m)\u001b[49m\n\u001b[1;32m    746\u001b[0m     pl \u001b[38;5;241m=\u001b[39m [(cl[i], \u001b[38;5;241m-\u001b[39mcl[i\u001b[38;5;241m+\u001b[39m\u001b[38;5;241m1\u001b[39m]) \u001b[38;5;28;01mfor\u001b[39;00m i \u001b[38;5;129;01min\u001b[39;00m \u001b[38;5;28mrange\u001b[39m(\u001b[38;5;241m0\u001b[39m, \u001b[38;5;28mlen\u001b[39m(cl), \u001b[38;5;241m2\u001b[39m)]\n\u001b[1;32m    747\u001b[0m     \u001b[38;5;28;01mreturn\u001b[39;00m  pl\n",
      "File \u001b[0;32m<string>:1\u001b[0m, in \u001b[0;36mcoords\u001b[0;34m(self, *args, **kw)\u001b[0m\n",
      "File \u001b[0;32m/Library/Frameworks/Python.framework/Versions/3.12/lib/python3.12/tkinter/__init__.py:2851\u001b[0m, in \u001b[0;36mCanvas.coords\u001b[0;34m(self, *args)\u001b[0m\n\u001b[1;32m   2847\u001b[0m \u001b[38;5;250m\u001b[39m\u001b[38;5;124;03m\"\"\"Return a list of coordinates for the item given in ARGS.\"\"\"\u001b[39;00m\n\u001b[1;32m   2848\u001b[0m args \u001b[38;5;241m=\u001b[39m _flatten(args)\n\u001b[1;32m   2849\u001b[0m \u001b[38;5;28;01mreturn\u001b[39;00m [\u001b[38;5;28mself\u001b[39m\u001b[38;5;241m.\u001b[39mtk\u001b[38;5;241m.\u001b[39mgetdouble(x) \u001b[38;5;28;01mfor\u001b[39;00m x \u001b[38;5;129;01min\u001b[39;00m\n\u001b[1;32m   2850\u001b[0m                    \u001b[38;5;28mself\u001b[39m\u001b[38;5;241m.\u001b[39mtk\u001b[38;5;241m.\u001b[39msplitlist(\n\u001b[0;32m-> 2851\u001b[0m            \u001b[38;5;28;43mself\u001b[39;49m\u001b[38;5;241;43m.\u001b[39;49m\u001b[43mtk\u001b[49m\u001b[38;5;241;43m.\u001b[39;49m\u001b[43mcall\u001b[49m\u001b[43m(\u001b[49m\u001b[43m(\u001b[49m\u001b[38;5;28;43mself\u001b[39;49m\u001b[38;5;241;43m.\u001b[39;49m\u001b[43m_w\u001b[49m\u001b[43m,\u001b[49m\u001b[43m \u001b[49m\u001b[38;5;124;43m'\u001b[39;49m\u001b[38;5;124;43mcoords\u001b[39;49m\u001b[38;5;124;43m'\u001b[39;49m\u001b[43m)\u001b[49m\u001b[43m \u001b[49m\u001b[38;5;241;43m+\u001b[39;49m\u001b[43m \u001b[49m\u001b[43margs\u001b[49m\u001b[43m)\u001b[49m)]\n",
      "\u001b[0;31mTclError\u001b[0m: invalid command name \".!canvas\""
     ]
    }
   ],
   "source": [
    "from turtle import Screen, Turtle\n",
    "import time\n",
    "\n",
    "screen = Screen()\n",
    "screen.setup(width=600, height=600)\n",
    "screen.bgcolor(\"black\")\n",
    "screen.title(\"My Snake Game\")\n",
    "screen.tracer(0)\n",
    "\n",
    "starting_positions = [(0, 0),(-20, 0),(-40, 0)]\n",
    "\n",
    "segments = []\n",
    "\n",
    "for position in starting_positions:\n",
    "    new_segment = Turtle(\"square\")\n",
    "    new_segment.color(\"white\")\n",
    "    new_segment.penup()\n",
    "    new_segment.goto(position)\n",
    "    segments.append(new_segment)\n",
    "\n",
    "game_is_on = True\n",
    "while game_is_on:\n",
    "    screen.update()\n",
    "    time.sleep(0.1)\n",
    "\n",
    "    for seg_num in range(len(segments) - 1, 0, -1):\n",
    "        new_x = segments[seg_num - 1].xcor()\n",
    "        new_y = segments[seg_num - 1].ycor()\n",
    "        segments[seg_num].goto(new_x, new_y)\n",
    "    segments[0].forward(20)\n",
    "        \n",
    "screen.exitonclick()"
   ]
  },
  {
   "cell_type": "code",
   "execution_count": null,
   "id": "5d11f465-788d-49e4-bac8-28ed5547cf2a",
   "metadata": {},
   "outputs": [],
   "source": []
  },
  {
   "cell_type": "code",
   "execution_count": null,
   "id": "e79cde44-cd7e-46f2-a22c-2dff5d95e56e",
   "metadata": {},
   "outputs": [],
   "source": []
  },
  {
   "cell_type": "code",
   "execution_count": null,
   "id": "59651084-395a-4850-9f9f-0f19e8157e9f",
   "metadata": {},
   "outputs": [],
   "source": []
  },
  {
   "cell_type": "code",
   "execution_count": null,
   "id": "9fa4367c-6589-451b-ad46-49e1b4203fd4",
   "metadata": {},
   "outputs": [],
   "source": []
  }
 ],
 "metadata": {
  "kernelspec": {
   "display_name": "Python 3 (ipykernel)",
   "language": "python",
   "name": "python3"
  },
  "language_info": {
   "codemirror_mode": {
    "name": "ipython",
    "version": 3
   },
   "file_extension": ".py",
   "mimetype": "text/x-python",
   "name": "python",
   "nbconvert_exporter": "python",
   "pygments_lexer": "ipython3",
   "version": "3.12.4"
  }
 },
 "nbformat": 4,
 "nbformat_minor": 5
}
