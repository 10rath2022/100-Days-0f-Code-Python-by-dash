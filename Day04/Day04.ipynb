{
 "cells": [
  {
   "cell_type": "code",
   "execution_count": 1,
   "id": "23ca8007-6417-4666-8b4e-b4645996387a",
   "metadata": {},
   "outputs": [],
   "source": [
    "##### Random Module ####"
   ]
  },
  {
   "cell_type": "code",
   "execution_count": 2,
   "id": "032350ab-1fd3-4536-a0da-6169892e29ad",
   "metadata": {},
   "outputs": [],
   "source": [
    "import random"
   ]
  },
  {
   "cell_type": "code",
   "execution_count": 6,
   "id": "8e857373-7c90-4f97-a89e-166ca00b7615",
   "metadata": {},
   "outputs": [
    {
     "name": "stdout",
     "output_type": "stream",
     "text": [
      "9\n"
     ]
    }
   ],
   "source": [
    "random_integer = random.randint(1, 10)\n",
    "print(random_integer)"
   ]
  },
  {
   "cell_type": "code",
   "execution_count": 8,
   "id": "e7e78859-5786-4c47-bb89-6b100f0ba5b2",
   "metadata": {},
   "outputs": [
    {
     "name": "stdout",
     "output_type": "stream",
     "text": [
      "9.836474727551671\n"
     ]
    }
   ],
   "source": [
    "random_number_0_to_1 = random.random() * 10\n",
    "print(random_number_0_to_1)"
   ]
  },
  {
   "cell_type": "code",
   "execution_count": null,
   "id": "a10bbf07-d25f-4276-9c1a-7fafd4901b8b",
   "metadata": {},
   "outputs": [],
   "source": []
  },
  {
   "cell_type": "code",
   "execution_count": 9,
   "id": "fd830d23-53f1-412e-aa1e-1d7739e4aebf",
   "metadata": {},
   "outputs": [
    {
     "name": "stdout",
     "output_type": "stream",
     "text": [
      "8.950759634237487\n"
     ]
    }
   ],
   "source": [
    "random_float = random.uniform(1, 10)\n",
    "print(random_float)"
   ]
  },
  {
   "cell_type": "code",
   "execution_count": 20,
   "id": "62e8c2d1-8195-48b6-aaf1-45af3a13a8a3",
   "metadata": {},
   "outputs": [
    {
     "name": "stdout",
     "output_type": "stream",
     "text": [
      "Tails\n"
     ]
    }
   ],
   "source": [
    "import random\n",
    "\n",
    "# Randomly select either \"Heads\" or \"Tails\"\n",
    "random_choice = random.choice([\"Heads\", \"Tails\"])\n",
    "\n",
    "# Print the result\n",
    "print(random_choice)\n"
   ]
  },
  {
   "cell_type": "code",
   "execution_count": 34,
   "id": "182b4069-0d37-4131-bb93-bd2d4365bc04",
   "metadata": {},
   "outputs": [
    {
     "name": "stdout",
     "output_type": "stream",
     "text": [
      "Heads\n"
     ]
    }
   ],
   "source": [
    "random_string = random.randint(0,1)\n",
    "if random_string == 0:\n",
    "    print(\"Heads\")\n",
    "else:\n",
    "    print(\"Tails\")\n"
   ]
  },
  {
   "cell_type": "code",
   "execution_count": 29,
   "id": "b636fedb-a558-45db-8271-d3bb27ad6cf4",
   "metadata": {},
   "outputs": [
    {
     "name": "stdout",
     "output_type": "stream",
     "text": [
      "ZZgDSnKc\n"
     ]
    }
   ],
   "source": [
    "import random\n",
    "import string\n",
    "\n",
    "# Generate a random string of 8 characters\n",
    "random_string = ''.join(random.choices(string.ascii_letters, k=8))\n",
    "\n",
    "print(random_string)\n"
   ]
  },
  {
   "cell_type": "code",
   "execution_count": null,
   "id": "94e47f9c-6cbe-4cd2-bf61-5dc15ba003e8",
   "metadata": {},
   "outputs": [],
   "source": []
  },
  {
   "cell_type": "code",
   "execution_count": 40,
   "id": "8c3f7707-9737-4dcc-94e7-68404b7cbb5e",
   "metadata": {},
   "outputs": [
    {
     "name": "stdout",
     "output_type": "stream",
     "text": [
      "Ivy\n",
      "Alice\n"
     ]
    }
   ],
   "source": [
    "# which player will play?\n",
    "\n",
    "import random\n",
    "\n",
    "# List of 10 player names\n",
    "players = [\"Alice\", \"Bob\", \"Charlie\", \"David\", \"Eve\", \"Frank\", \"Grace\", \"Hannah\", \"Ivy\", \"Jack\"]\n",
    "\n",
    "# Option 1\n",
    "print(random.choice(players))\n",
    "\n",
    "\n",
    "# Option 2\n",
    "random_index = random.randint(0,4)\n",
    "print(players[random_index])                            "
   ]
  },
  {
   "cell_type": "code",
   "execution_count": null,
   "id": "306243ee-7dd4-4774-ae3f-a9b764ae9103",
   "metadata": {},
   "outputs": [],
   "source": []
  },
  {
   "cell_type": "code",
   "execution_count": 75,
   "id": "5efa36e6-43d8-4236-bd52-669b7b2b3632",
   "metadata": {},
   "outputs": [
    {
     "name": "stdin",
     "output_type": "stream",
     "text": [
      "What do you choose? Type 0 for Rock, 1 for Paper or 2 for Scissors.\n",
      "    You  Chose: 2\n"
     ]
    },
    {
     "name": "stdout",
     "output_type": "stream",
     "text": [
      "\n",
      "        _______\n",
      "    ---'   ____)____\n",
      "              ______)\n",
      "           __________)\n",
      "          (____)\n",
      "    ---.__(___)\n",
      "    \n",
      "Computer Chose: 1\n",
      "\n",
      "         _______\n",
      "    ---'    ____)____\n",
      "               ______)\n",
      "              _______)\n",
      "             _______)\n",
      "    ---.__________)\n",
      "    \n",
      "You win!\n"
     ]
    }
   ],
   "source": [
    "# Rock Paper Scissors Game!!!!!!!\n",
    "\n",
    "choice = int(input(\"What do you choose? Type 0 for Rock, 1 for Paper or 2 for Scissors.\\n    You  Chose:\"))\n",
    "# Rock Paper Scissors ASCII Art\n",
    "\n",
    "if choice == 0:\n",
    "    # Rock\n",
    "    print(\"\"\"\n",
    "        _______\n",
    "    ---'   ____)\n",
    "          (_____)\n",
    "          (_____)\n",
    "          (____)\n",
    "    ---.__(___)\n",
    "    \"\"\")\n",
    "elif choice == 1:\n",
    "    # Paper\n",
    "    print(\"\"\"\n",
    "         _______\n",
    "    ---'    ____)____\n",
    "               ______)\n",
    "              _______)\n",
    "             _______)\n",
    "    ---.__________)\n",
    "    \"\"\")\n",
    "elif choice == 2:\n",
    "    # Scissors\n",
    "    print(\"\"\"\n",
    "        _______\n",
    "    ---'   ____)____\n",
    "              ______)\n",
    "           __________)\n",
    "          (____)\n",
    "    ---.__(___)\n",
    "    \"\"\")\n",
    "\n",
    "computer_choice = random.randint(0,2)\n",
    "print(f\"Computer Chose: {computer_choice}\")\n",
    "\n",
    "\n",
    "if computer_choice == 0:\n",
    "    # Rock\n",
    "    print(\"\"\"\n",
    "        _______\n",
    "    ---'   ____)\n",
    "          (_____)\n",
    "          (_____)\n",
    "          (____)\n",
    "    ---.__(___)\n",
    "    \"\"\")\n",
    "elif computer_choice == 1:\n",
    "    # Paper\n",
    "    print(\"\"\"\n",
    "         _______\n",
    "    ---'    ____)____\n",
    "               ______)\n",
    "              _______)\n",
    "             _______)\n",
    "    ---.__________)\n",
    "    \"\"\")\n",
    "elif computer_choice == 2:\n",
    "    # Scissors\n",
    "    print(\"\"\"\n",
    "        _______\n",
    "    ---'   ____)____\n",
    "              ______)\n",
    "           __________)\n",
    "          (____)\n",
    "    ---.__(___)\n",
    "    \"\"\")\n",
    "if choice >=3 and choice < 0:\n",
    "    print(\"You have entered invalid number, you lose!\")\n",
    "elif choice == 0 and computer_choice == 2:\n",
    "    print(\"You win!\")\n",
    "elif choice == 2 and computer_choice == 0:\n",
    "    print(\"You lose!\")    \n",
    "elif choice > computer_choice:\n",
    "    print(\"You win!\")\n",
    "elif choice < computer_choice:\n",
    "    print(\"You lose!\")\n",
    "elif computer_choice == choice:\n",
    "    print(\"It's a draw\")\n",
    "\n",
    "    "
   ]
  },
  {
   "cell_type": "code",
   "execution_count": 78,
   "id": "cd2e59a6-05f9-47fc-a660-65a2438948d6",
   "metadata": {},
   "outputs": [
    {
     "name": "stdin",
     "output_type": "stream",
     "text": [
      "What do you choose? Type 0 for Rock, 1 for Paper or 2 for Scissors.\n",
      "You Chose:  4\n"
     ]
    },
    {
     "name": "stdout",
     "output_type": "stream",
     "text": [
      "You have entered an invalid number, you lose!\n"
     ]
    }
   ],
   "source": [
    "import random\n",
    "\n",
    "# Rock Paper Scissors ASCII Art\n",
    "ascii_art = [\n",
    "    \"\"\"\n",
    "        _______\n",
    "    ---'   ____)\n",
    "          (_____)\n",
    "          (_____)\n",
    "          (____)\n",
    "    ---.__(___)\n",
    "    \"\"\",  # Rock\n",
    "    \"\"\"\n",
    "         _______\n",
    "    ---'    ____)____\n",
    "               ______)\n",
    "              _______)\n",
    "             _______)\n",
    "    ---.__________)\n",
    "    \"\"\",  # Paper\n",
    "    \"\"\"\n",
    "        _______\n",
    "    ---'   ____)____\n",
    "              ______)\n",
    "           __________)\n",
    "          (____)\n",
    "    ---.__(___)\n",
    "    \"\"\"  # Scissors\n",
    "]\n",
    "\n",
    "# Prompt user for choice\n",
    "choice = int(input(\"What do you choose? Type 0 for Rock, 1 for Paper or 2 for Scissors.\\nYou Chose: \"))\n",
    "\n",
    "# Ensure the input is valid\n",
    "if choice >= 0 and choice <= 2:\n",
    "    print(f\"You Chose:\\n{ascii_art[choice]}\")\n",
    "    \n",
    "    # Randomly select computer's choice\n",
    "    computer_choice = random.randint(0, 2)\n",
    "    print(f\"Computer Chose:\\n{ascii_art[computer_choice]}\")\n",
    "    \n",
    "    # Determine the outcome\n",
    "    if choice == computer_choice:\n",
    "        print(\"It's a draw!\")\n",
    "    elif (choice == 0 and computer_choice == 2) or (choice == 1 and computer_choice == 0) or (choice == 2 and computer_choice == 1):\n",
    "        print(\"You win!\")\n",
    "    else:\n",
    "        print(\"You lose!\")\n",
    "else:\n",
    "    print(\"You have entered an invalid number, you lose!\")\n"
   ]
  },
  {
   "cell_type": "code",
   "execution_count": null,
   "id": "8d07626a-e9ab-4ff5-a977-9b2e9b7184cb",
   "metadata": {},
   "outputs": [],
   "source": []
  }
 ],
 "metadata": {
  "kernelspec": {
   "display_name": "Python 3 (ipykernel)",
   "language": "python",
   "name": "python3"
  },
  "language_info": {
   "codemirror_mode": {
    "name": "ipython",
    "version": 3
   },
   "file_extension": ".py",
   "mimetype": "text/x-python",
   "name": "python",
   "nbconvert_exporter": "python",
   "pygments_lexer": "ipython3",
   "version": "3.12.4"
  }
 },
 "nbformat": 4,
 "nbformat_minor": 5
}
