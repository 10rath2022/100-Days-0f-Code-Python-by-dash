{
 "cells": [
  {
   "cell_type": "code",
   "execution_count": null,
   "id": "28e15c89-b184-473b-a3e2-b86b46d5c76f",
   "metadata": {},
   "outputs": [],
   "source": [
    "# Day 17 - The Quiz Project & The Benefits of OOP\n",
    "## Concepts Practised\n",
    "#### How to create a Class in Python\n",
    "#### Working with Attributes, Class Constructors and the init() Function\n",
    "#### Adding Methods to a Class\n",
    "##Quiz Project"
   ]
  },
  {
   "cell_type": "code",
   "execution_count": null,
   "id": "b0d6ddbb-ae55-4d09-b096-d47cbfd0dd05",
   "metadata": {},
   "outputs": [],
   "source": []
  },
  {
   "cell_type": "code",
   "execution_count": 1,
   "id": "5b1ab491-4366-418b-9a73-383ef8c04b78",
   "metadata": {},
   "outputs": [
    {
     "ename": "ModuleNotFoundError",
     "evalue": "No module named 'question_model'",
     "output_type": "error",
     "traceback": [
      "\u001b[0;31m---------------------------------------------------------------------------\u001b[0m",
      "\u001b[0;31mModuleNotFoundError\u001b[0m                       Traceback (most recent call last)",
      "Cell \u001b[0;32mIn[1], line 1\u001b[0m\n\u001b[0;32m----> 1\u001b[0m \u001b[38;5;28;01mfrom\u001b[39;00m \u001b[38;5;21;01mquestion_model\u001b[39;00m \u001b[38;5;28;01mimport\u001b[39;00m Question\n\u001b[1;32m      2\u001b[0m \u001b[38;5;28;01mfrom\u001b[39;00m \u001b[38;5;21;01mdata\u001b[39;00m \u001b[38;5;28;01mimport\u001b[39;00m question_data\n\u001b[1;32m      3\u001b[0m \u001b[38;5;28;01mfrom\u001b[39;00m \u001b[38;5;21;01mquiz_brain\u001b[39;00m \u001b[38;5;28;01mimport\u001b[39;00m QuizBrain\n",
      "\u001b[0;31mModuleNotFoundError\u001b[0m: No module named 'question_model'"
     ]
    }
   ],
   "source": [
    "from question_model import Question\n",
    "from data import question_data\n",
    "from quiz_brain import QuizBrain\n",
    "\n",
    "question_bank = []\n",
    "for question in question_data:\n",
    "    question_text = question['text']\n",
    "    question_answer = question['answer']\n",
    "    new_question = Question(question_text, question_answer)\n",
    "    question_bank.append(new_question)\n",
    "\n",
    "quiz = QuizBrain(question_bank)\n",
    "\n",
    "while quiz.still_has_questions():\n",
    "    quiz.next_question()\n",
    "\n",
    "print(f\"Thanks for completing that!\\nYour final score is: {quiz.score}/{quiz.question_number}\")"
   ]
  },
  {
   "cell_type": "code",
   "execution_count": null,
   "id": "f320a2d5-01b4-4c94-ad0e-8491d20e1b57",
   "metadata": {},
   "outputs": [],
   "source": [
    "`"
   ]
  }
 ],
 "metadata": {
  "kernelspec": {
   "display_name": "Python 3 (ipykernel)",
   "language": "python",
   "name": "python3"
  },
  "language_info": {
   "codemirror_mode": {
    "name": "ipython",
    "version": 3
   },
   "file_extension": ".py",
   "mimetype": "text/x-python",
   "name": "python",
   "nbconvert_exporter": "python",
   "pygments_lexer": "ipython3",
   "version": "3.12.4"
  }
 },
 "nbformat": 4,
 "nbformat_minor": 5
}
