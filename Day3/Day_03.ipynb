{
 "cells": [
  {
   "cell_type": "markdown",
   "id": "050daa4e-96a9-410e-ada9-8a64e60418ee",
   "metadata": {},
   "source": [
    "### Day 3 - Control Flow and Logical Operators\n",
    "\n",
    "#### Concepts Practised\n",
    "\n",
    "    - Control Flow with if / else and Conditional Operators\n",
    "    - Modulo Operator\n",
    "    - Nested if statements and elif statements\n",
    "    - Multiple If Statements in Succession\n",
    "    - Logical Operators"
   ]
  },
  {
   "cell_type": "code",
   "execution_count": 3,
   "id": "e081f9aa-2a6f-4486-9767-bfc656766c9e",
   "metadata": {},
   "outputs": [
    {
     "name": "stdout",
     "output_type": "stream",
     "text": [
      "Welcome to the rollercoster!\n"
     ]
    },
    {
     "name": "stdin",
     "output_type": "stream",
     "text": [
      "What is your height in cm?  120\n"
     ]
    },
    {
     "name": "stdout",
     "output_type": "stream",
     "text": [
      "You can ride the rollercoaster\n"
     ]
    }
   ],
   "source": [
    "print(\"Welcome to the rollercoster!\")\n",
    "height = int(input(\"What is your height in cm? \"))\n",
    "\n",
    "if height >= 120:\n",
    "    print(\"You can ride the rollercoaster\")\n",
    "else:\n",
    "    print(\"Sorry! you have to grow taller before you can ride. Visit Again!\")"
   ]
  },
  {
   "cell_type": "code",
   "execution_count": null,
   "id": "1ecadd4c-f86d-4433-ab55-074d7c253fa8",
   "metadata": {},
   "outputs": [],
   "source": []
  },
  {
   "cell_type": "code",
   "execution_count": 10,
   "id": "079d8035-d629-4f45-9824-5eacc0e8a659",
   "metadata": {},
   "outputs": [
    {
     "name": "stdin",
     "output_type": "stream",
     "text": [
      "What is the number you want to check ?  12\n"
     ]
    },
    {
     "name": "stdout",
     "output_type": "stream",
     "text": [
      "Even\n"
     ]
    }
   ],
   "source": [
    "# Check given number is Odd or Even\n",
    "\n",
    "number_to_check = int(input(\"What is the number you want to check ? \"))\n",
    "\n",
    "if number_to_check % 2 == 0:\n",
    "    print(\"Even\")\n",
    "else:\n",
    "    print(\"Odd\")"
   ]
  },
  {
   "cell_type": "code",
   "execution_count": 15,
   "id": "e1be9df2-94a5-4595-8c4a-c2cdec1e3adf",
   "metadata": {},
   "outputs": [
    {
     "name": "stdout",
     "output_type": "stream",
     "text": [
      "Welcome to the rollercoster!\n"
     ]
    },
    {
     "name": "stdin",
     "output_type": "stream",
     "text": [
      "What is your height in cm?  178\n"
     ]
    },
    {
     "name": "stdout",
     "output_type": "stream",
     "text": [
      "You can ride the rollercoaster\n"
     ]
    },
    {
     "name": "stdin",
     "output_type": "stream",
     "text": [
      "What is your age? 34\n"
     ]
    },
    {
     "name": "stdout",
     "output_type": "stream",
     "text": [
      "Please pay Rs. 15.\n"
     ]
    }
   ],
   "source": [
    "# Nested if - else\n",
    "\n",
    "print(\"Welcome to the rollercoster!\")\n",
    "height = int(input(\"What is your height in cm? \"))\n",
    "\n",
    "if height >= 120:\n",
    "    print(\"You can ride the rollercoaster\")\n",
    "    \n",
    "    age = int(input(\"What is your age?\"))\n",
    "    \n",
    "    if age <= 12:\n",
    "        print(\"Please pay Rs. 5.\")\n",
    "    elif age <= 18:\n",
    "        print(\"Please pay rs. 7.\")\n",
    "    elif age < 22:  # Changed 'else' to 'elif' for this condition\n",
    "        print(\"Please pay Rs. 12.\")\n",
    "    else:\n",
    "        print(\"Please pay Rs. 15.\")\n",
    "else:\n",
    "    print(\"Sorry! you have to grow taller before you can ride. Visit Again!\")"
   ]
  },
  {
   "cell_type": "code",
   "execution_count": 24,
   "id": "cad6e588-a5fe-4663-9192-ad940dd9aef9",
   "metadata": {},
   "outputs": [
    {
     "name": "stdout",
     "output_type": "stream",
     "text": [
      "Your BMI is: 24.84\n",
      "Normal weight: 24.84\n"
     ]
    }
   ],
   "source": [
    "weight = 85\n",
    "height = 1.85\n",
    "\n",
    "bmi = weight / (height ** 2)\n",
    "print(f\"Your BMI is: {bmi:.2f}\")\n",
    "\n",
    "if bmi < 18.5:\n",
    "    print(f\"Underweight: {bmi:.2f}\")\n",
    "elif 18.5 <= bmi < 25:\n",
    "    print(f\"Normal weight: {bmi:.2f}\")\n",
    "elif bmi >= 25:\n",
    "    print(f\"Overweight: {bmi:.2f}\")\n"
   ]
  },
  {
   "cell_type": "code",
   "execution_count": null,
   "id": "65f94feb-ecb4-4f03-9526-4e3a2eb6b07f",
   "metadata": {},
   "outputs": [],
   "source": []
  },
  {
   "cell_type": "code",
   "execution_count": 27,
   "id": "a2bfdf29-c9c8-4016-93c7-37a5764e70be",
   "metadata": {},
   "outputs": [
    {
     "name": "stdout",
     "output_type": "stream",
     "text": [
      "Welcome to the rollercoster!\n"
     ]
    },
    {
     "name": "stdin",
     "output_type": "stream",
     "text": [
      "What is your height in cm?  177\n"
     ]
    },
    {
     "name": "stdout",
     "output_type": "stream",
     "text": [
      "You can ride the rollercoaster\n"
     ]
    },
    {
     "name": "stdin",
     "output_type": "stream",
     "text": [
      "What is your age? 34\n"
     ]
    },
    {
     "name": "stdout",
     "output_type": "stream",
     "text": [
      "Adult  tickets are Rs. 12.\n"
     ]
    },
    {
     "name": "stdin",
     "output_type": "stream",
     "text": [
      "Do you want to have a photo take? Type y for Yes and n for No y\n"
     ]
    },
    {
     "name": "stdout",
     "output_type": "stream",
     "text": [
      "Your final bill is 15\n"
     ]
    }
   ],
   "source": [
    "# Nested if - else, if elif - else, if , if...\n",
    "\n",
    "print(\"Welcome to the rollercoster!\")\n",
    "height = int(input(\"What is your height in cm? \"))\n",
    "\n",
    "if height >= 120:\n",
    "    print(\"You can ride the rollercoaster\")\n",
    "    \n",
    "    age = int(input(\"What is your age?\"))\n",
    "    \n",
    "    if age <= 12:\n",
    "        bill = 5\n",
    "        print(\"Child tickets are Rs. 5.\")\n",
    "    elif age <= 18:\n",
    "        bill = 7\n",
    "        print(\"Youth tickets are rs. 7.\")\n",
    "    else:\n",
    "        bill = 12\n",
    "        print(\"Adult  tickets are Rs. 12.\")\n",
    "\n",
    "\n",
    "    wants_photo = input(\"Do you want to have a photo take? Type y for Yes and n for No\")\n",
    "\n",
    "    if wants_photo == 'y':\n",
    "        # add $3 to their bill\n",
    "        bill += 3\n",
    "        \n",
    "    print(f\"Your final bill is $bill}\")\n",
    "else:\n",
    "    print(\"Sorry! you have to grow taller before you can ride. Visit Again!\")"
   ]
  },
  {
   "cell_type": "code",
   "execution_count": null,
   "id": "abfd99a7-2bcc-4e6e-9cba-660777e22d48",
   "metadata": {},
   "outputs": [],
   "source": []
  },
  {
   "cell_type": "markdown",
   "id": "40768813-8d3b-4ba9-9d26-3e2df8cfd361",
   "metadata": {},
   "source": [
    "#### Write a Pizza Delivery Program\n",
    "Congratulations, you've got a job at Python Pizza! Your first job is to build an automatic pizza order program.\n",
    "\n",
    "Based on a user's order, work out their bill. Use the input() function to get user's preferences and then add up the total for their order and tell them how much they have to pay.\n",
    "\n",
    "Small pizza(S): $15\n",
    "Medium pizza(M): $20\n",
    "Large pizza (L): $25\n",
    "\n",
    "Add pepperoni for small pizza (Y or N): +$2\n",
    "\n",
    "Add pepperoni for medium/large pizza (Y or N): +$3\n",
    "\n",
    "Add extra cheese for any size pizza(Y or N): +$1"
   ]
  },
  {
   "cell_type": "code",
   "execution_count": 41,
   "id": "976b1f7b-9fd9-4ec5-96de-82a1a4e8e7c6",
   "metadata": {},
   "outputs": [
    {
     "name": "stdout",
     "output_type": "stream",
     "text": [
      "Welcome to Village Pizza Shop\n",
      "\n"
     ]
    },
    {
     "name": "stdin",
     "output_type": "stream",
     "text": [
      "Hello!! Which size pizza would you like to order? S, M, or L:  S\n"
     ]
    },
    {
     "name": "stdout",
     "output_type": "stream",
     "text": [
      "You have selected a small pizza.\n"
     ]
    },
    {
     "name": "stdin",
     "output_type": "stream",
     "text": [
      "Do you wish to add pepperoni for small pizza (Y or N):  N\n",
      "Do you want to add extra cheese for any size pizza (Y or N):  N\n"
     ]
    },
    {
     "name": "stdout",
     "output_type": "stream",
     "text": [
      "Thank you for your order. Your total bill is: $15\n"
     ]
    }
   ],
   "source": [
    "print(\"Welcome to Village Pizza Shop\\n\")\n",
    "\n",
    "# Asking user for pizza size\n",
    "size = input(\"Hello!! Which size pizza would you like to order? S, M, or L: \").upper()\n",
    "\n",
    "# Initialize bill to 0\n",
    "bill = 0\n",
    "\n",
    "# Checking pizza size and calculating base price\n",
    "if size == 'S':\n",
    "    bill = 15\n",
    "    print(\"You have selected a small pizza.\")\n",
    "    pepperoni = input(\"Do you wish to add pepperoni for small pizza (Y or N): \").upper()\n",
    "    if pepperoni == 'Y':\n",
    "        bill += 2\n",
    "\n",
    "elif size == 'M':\n",
    "    bill = 20\n",
    "    print(\"You have selected a medium pizza.\")\n",
    "    pepperoni = input(\"Do you wish to add pepperoni for medium/large pizza (Y or N): \").upper()\n",
    "    if pepperoni == 'Y':\n",
    "        bill += 3\n",
    "\n",
    "elif size == 'L':\n",
    "    bill = 25\n",
    "    print(\"You have selected a large pizza.\")\n",
    "    pepperoni = input(\"Do you wish to add pepperoni for medium/large pizza (Y or N): \").upper()\n",
    "    if pepperoni == 'Y':\n",
    "        bill += 3\n",
    "\n",
    "# Asking for extra cheese (applies to all sizes)\n",
    "extra_cheese = input(\"Do you want to add extra cheese for any size pizza (Y or N): \").upper()\n",
    "if extra_cheese == 'Y':\n",
    "    bill += 1\n",
    "\n",
    "# If an invalid size was selected\n",
    "else:\n",
    "    if size not in ['S', 'M', 'L']:\n",
    "        print(\"Please select the correct size!\")\n",
    "\n",
    "# Displaying total bill\n",
    "print(f\"Thank you for your order. Your total bill is: ${bill}\")\n"
   ]
  },
  {
   "cell_type": "code",
   "execution_count": null,
   "id": "78ca4085-5f17-4b41-9995-959d9f4302c7",
   "metadata": {},
   "outputs": [],
   "source": []
  },
  {
   "cell_type": "code",
   "execution_count": 49,
   "id": "b780fa10-91b2-4687-9ad0-9cfab99b16a1",
   "metadata": {},
   "outputs": [
    {
     "name": "stdout",
     "output_type": "stream",
     "text": [
      "Welcome to the rollercoster!\n"
     ]
    },
    {
     "name": "stdin",
     "output_type": "stream",
     "text": [
      "What is your height in cm?  234\n"
     ]
    },
    {
     "name": "stdout",
     "output_type": "stream",
     "text": [
      "You can ride the rollercoaster\n"
     ]
    },
    {
     "name": "stdin",
     "output_type": "stream",
     "text": [
      "What is your age? 45\n"
     ]
    },
    {
     "name": "stdout",
     "output_type": "stream",
     "text": [
      "Everything is going to be ok. Have a free ride on us!\n"
     ]
    },
    {
     "name": "stdin",
     "output_type": "stream",
     "text": [
      "Do you want to have a photo take? Type y for Yes and n for No n\n"
     ]
    },
    {
     "name": "stdout",
     "output_type": "stream",
     "text": [
      "Your final bill is $0\n"
     ]
    }
   ],
   "source": [
    "# # Logical operators\n",
    "# A and B both conditions need to be True\n",
    "# C or D  one condition need to be True\n",
    "# not E   condition must be false\n",
    "\n",
    "# RollerCoaster ride again\n",
    "\n",
    "print(\"Welcome to the rollercoster!\")\n",
    "height = int(input(\"What is your height in cm? \"))\n",
    "\n",
    "if height >= 120:\n",
    "    print(\"You can ride the rollercoaster\")\n",
    "    \n",
    "    age = int(input(\"What is your age?\"))\n",
    "    \n",
    "    if age <= 12:\n",
    "        bill = 5\n",
    "        print(\"Child tickets are Rs. 5.\")\n",
    "    elif age <= 18:\n",
    "        bill = 7\n",
    "        print(\"Youth tickets are rs. 7.\")\n",
    "    elif 45 <= age <= 55:\n",
    "        bill = 0\n",
    "        print(\"Everything is going to be ok. Have a free ride on us!\")\n",
    "    else:\n",
    "        bill = 12\n",
    "        print(\"Adult  tickets are Rs. 12.\")\n",
    "\n",
    "    wants_photo = input(\"Do you want to have a photo take? Type y for Yes and n for No\")\n",
    "\n",
    "    if wants_photo == 'y':\n",
    "        # add $3 to their bill\n",
    "        bill += 3\n",
    "        \n",
    "    print(f\"Your final bill is ${bill}\")\n",
    "else:\n",
    "    print(\"Sorry! you have to grow taller before you can ride. Visit Again!\")"
   ]
  },
  {
   "cell_type": "code",
   "execution_count": null,
   "id": "2ffe77ac-aba9-4cba-b315-487bdaf99fd4",
   "metadata": {},
   "outputs": [],
   "source": [
    "\n",
    "\n",
    "\n",
    "\n"
   ]
  },
  {
   "cell_type": "code",
   "execution_count": null,
   "id": "76c4c922-3c38-4406-ad3f-df05fb70fe79",
   "metadata": {},
   "outputs": [
    {
     "name": "stderr",
     "output_type": "stream",
     "text": [
      "<>:3: SyntaxWarning: invalid escape sequence '\\`'\n",
      "<>:3: SyntaxWarning: invalid escape sequence '\\`'\n",
      "/var/folders/ll/d13_x4n97234wghtr88ntn9c0000gn/T/ipykernel_2326/1925327642.py:3: SyntaxWarning: invalid escape sequence '\\`'\n",
      "  print('''\n"
     ]
    },
    {
     "name": "stdout",
     "output_type": "stream",
     "text": [
      "\n",
      "*******************************************************************************\n",
      "          |                   |                  |                     |\n",
      " _________|________________.=\"\"_;=.______________|_____________________|_______\n",
      "|                   |  ,-\"_,=\"\"     `\"=.|                  |\n",
      "|___________________|__\"=._o`\"-._        `\"=.______________|___________________\n",
      "          |                `\"=._o`\"=._      _`\"=._                     |\n",
      " _________|_____________________:=._o \"=._.\"_.-=\"'\"=.__________________|_______\n",
      "|                   |    __.--\" , ; `\"=._o.\" ,-\"\"\"-._ \".   |\n",
      "|___________________|_._\"  ,. .` ` `` ,  `\"-._\"-._   \". '__|___________________\n",
      "          |           |o`\"=._` , \"` `; .\". ,  \"-._\"-._; ;              |\n",
      " _________|___________| ;`-.o`\"=._; .\" ` '`.\"\\` . \"-._ /_______________|_______\n",
      "|                   | |o;    `\"-.o`\"=._``  '` \" ,__.--o;   |\n",
      "|___________________|_| ;     (#) `-.o `\"=.`_.--\"_o.-; ;___|___________________\n",
      "____/______/______/___|o;._    \"      `\".o|o_.--\"    ;o;____/______/______/____\n",
      "/______/______/______/_\"=._o--._        ; | ;        ; ;/______/______/______/_\n",
      "____/______/______/______/__\"=._o--._   ;o|o;     _._;o;____/______/______/____\n",
      "/______/______/______/______/____\"=._o._; | ;_.--\"o.--\"_/______/______/______/_\n",
      "____/______/______/______/______/_____\"=.o|o_.--\"\"___/______/______/______/____\n",
      "/______/______/______/______/______/______/______/______/______/______/[TomekK]\n",
      "*******************************************************************************\n",
      "\n",
      "*** Welcome to Treasure Island. ***\n",
      "Your missionis to find the treasure.\n",
      "\n"
     ]
    }
   ],
   "source": [
    "# Treasure Hunt Game\n",
    "\n",
    "print('''\n",
    "*******************************************************************************\n",
    "          |                   |                  |                     |\n",
    " _________|________________.=\"\"_;=.______________|_____________________|_______\n",
    "|                   |  ,-\"_,=\"\"     `\"=.|                  |\n",
    "|___________________|__\"=._o`\"-._        `\"=.______________|___________________\n",
    "          |                `\"=._o`\"=._      _`\"=._                     |\n",
    " _________|_____________________:=._o \"=._.\"_.-=\"'\"=.__________________|_______\n",
    "|                   |    __.--\" , ; `\"=._o.\" ,-\"\"\"-._ \".   |\n",
    "|___________________|_._\"  ,. .` ` `` ,  `\"-._\"-._   \". '__|___________________\n",
    "          |           |o`\"=._` , \"` `; .\". ,  \"-._\"-._; ;              |\n",
    " _________|___________| ;`-.o`\"=._; .\" ` '`.\"\\` . \"-._ /_______________|_______\n",
    "|                   | |o;    `\"-.o`\"=._``  '` \" ,__.--o;   |\n",
    "|___________________|_| ;     (#) `-.o `\"=.`_.--\"_o.-; ;___|___________________\n",
    "____/______/______/___|o;._    \"      `\".o|o_.--\"    ;o;____/______/______/____\n",
    "/______/______/______/_\"=._o--._        ; | ;        ; ;/______/______/______/_\n",
    "____/______/______/______/__\"=._o--._   ;o|o;     _._;o;____/______/______/____\n",
    "/______/______/______/______/____\"=._o._; | ;_.--\"o.--\"_/______/______/______/_\n",
    "____/______/______/______/______/_____\"=.o|o_.--\"\"___/______/______/______/____\n",
    "/______/______/______/______/______/______/______/______/______/______/[TomekK]\n",
    "*******************************************************************************\n",
    "''')\n",
    "\n",
    "print(\"*** Welcome to Treasure Island. ***\\nYour missionis to find the treasure.\\n\")\n",
    "\n",
    "decision1 = input('You are at a cross road. Where do you want to go?\\nType \"left\" or \"right\"\\n')\n",
    "\n",
    "if decision1 == \"left\":\n",
    "    print(\"You've come to a lake. There is an island in the middle of the lake.\")\n",
    "    decision2 = input('Type \"wait\" to wait for a boat. Type \"swim\" to swim across.')\n",
    "    if decision2 == \"wait\":\n",
    "        print(\"You arrive at the island unharmed. There is a house with 3 doors\")\n",
    "        decision3 = input(\"One red, one yellow and one blue. Which colour do you choose?\")\n",
    "        if decision3 == \"yellow\":\n",
    "            print(\"You found the treasure! You Win!\")\n",
    "else: \n",
    "    print(\"oohh hoooo!!!!! Game Over! Try again\")"
   ]
  },
  {
   "cell_type": "code",
   "execution_count": null,
   "id": "4fa461f0-6817-4860-b4b6-e985ccd53831",
   "metadata": {},
   "outputs": [],
   "source": []
  }
 ],
 "metadata": {
  "kernelspec": {
   "display_name": "Python 3 (ipykernel)",
   "language": "python",
   "name": "python3"
  },
  "language_info": {
   "codemirror_mode": {
    "name": "ipython",
    "version": 3
   },
   "file_extension": ".py",
   "mimetype": "text/x-python",
   "name": "python",
   "nbconvert_exporter": "python",
   "pygments_lexer": "ipython3",
   "version": "3.12.4"
  }
 },
 "nbformat": 4,
 "nbformat_minor": 5
}
