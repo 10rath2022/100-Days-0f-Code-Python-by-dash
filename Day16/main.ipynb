{
 "cells": [
  {
   "cell_type": "code",
   "execution_count": 1,
   "id": "0b95ce19-fae2-4599-920a-a15ee4818d38",
   "metadata": {},
   "outputs": [],
   "source": [
    "### Day 16 - Object Oriented Programming (OOP)\n",
    "##\n",
    "### Concepts Practised\n",
    "##    #### Classes and Objects\n",
    "##    #### Constructing Objects and Accessing their Attributes and Methods\n",
    "##    #### How to Add Python Packages and use PyPi\n",
    "##    #### Modifying Object Attributes and Calling Methods\n",
    "### OOP Coffee Machine"
   ]
  },
  {
   "cell_type": "code",
   "execution_count": null,
   "id": "d6856d96-2968-4e96-9118-baa545053846",
   "metadata": {},
   "outputs": [],
   "source": [
    "from menu import Menu, MenuItem\n",
    "from coffee_maker import CoffeeMaker\n",
    "from money_machine import MoneyMachine\n",
    "\n",
    "# List of drinks\n",
    "espresso = MenuItem(\"espresso\", 50, 0, 18, 1.5)\n",
    "latte = MenuItem(\"latte\", 200, 150, 24, 2.5)\n",
    "cappuccino = MenuItem(\"cappuccino\", 250, 100, 24, 3.0)\n",
    "\n",
    "# For ordering drinks and checking if drink is available\n",
    "menu = Menu()\n",
    "\n",
    "# Printing report of all resources, checking if resources are sufficient, making coffee\n",
    "coffee_maker = CoffeeMaker()\n",
    "\n",
    "# Printing report and taking payment\n",
    "money_machine = MoneyMachine()\n",
    "\n",
    "on = True\n",
    "while on:\n",
    "    choice = input(f\"What would you like? Choose between espresso, latte or cappuccino: \")\n",
    "    if choice == 'off':\n",
    "        print(\"Have a good one!\")\n",
    "        on = False\n",
    "    elif choice == 'report':\n",
    "        coffee_maker.report()\n",
    "        money_machine.report()\n",
    "    else:\n",
    "        coffee_choice = menu.find_drink(choice)\n",
    "        if coffee_maker.is_resource_sufficient(espresso) and money_machine.make_payment(espresso.cost):\n",
    "            coffee_maker.make_coffee(coffee_choice)"
   ]
  },
  {
   "cell_type": "code",
   "execution_count": null,
   "id": "986187ed-363e-4903-bebc-511947a33c34",
   "metadata": {},
   "outputs": [],
   "source": []
  }
 ],
 "metadata": {
  "kernelspec": {
   "display_name": "Python 3 (ipykernel)",
   "language": "python",
   "name": "python3"
  },
  "language_info": {
   "codemirror_mode": {
    "name": "ipython",
    "version": 3
   },
   "file_extension": ".py",
   "mimetype": "text/x-python",
   "name": "python",
   "nbconvert_exporter": "python",
   "pygments_lexer": "ipython3",
   "version": "3.12.4"
  }
 },
 "nbformat": 4,
 "nbformat_minor": 5
}
